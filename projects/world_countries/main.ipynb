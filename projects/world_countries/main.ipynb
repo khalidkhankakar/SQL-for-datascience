{
 "cells": [
  {
   "cell_type": "code",
   "execution_count": 1,
   "id": "3f5d2f62",
   "metadata": {},
   "outputs": [],
   "source": [
    "import pandas as pd\n",
    "import matplotlib.pyplot as plt\n",
    "import seaborn as sns\n",
    "import mysql.connector as connector\n",
    "import warnings\n",
    "warnings.filterwarnings(\"ignore\")\n"
   ]
  },
  {
   "cell_type": "code",
   "execution_count": 2,
   "id": "373d8240",
   "metadata": {},
   "outputs": [],
   "source": [
    "conn = connector.connect(\n",
    "   host=\"localhost\",      # or \"127.0.0.1\"\n",
    "    user=\"root\",           # your MySQL username\n",
    "    password=\"1234\",\n",
    "    database=\"world\"\n",
    ")"
   ]
  },
  {
   "cell_type": "code",
   "execution_count": 3,
   "id": "121ab6ac",
   "metadata": {},
   "outputs": [
    {
     "data": {
      "application/vnd.microsoft.datawrangler.viewer.v0+json": {
       "columns": [
        {
         "name": "index",
         "rawType": "int64",
         "type": "integer"
        },
        {
         "name": "Tables_in_world",
         "rawType": "object",
         "type": "string"
        }
       ],
       "ref": "47550bcc-8347-480d-a6d9-a3be99ba5299",
       "rows": [
        [
         "0",
         "city"
        ],
        [
         "1",
         "country"
        ],
        [
         "2",
         "countrylanguage"
        ]
       ],
       "shape": {
        "columns": 1,
        "rows": 3
       }
      },
      "text/html": [
       "<div>\n",
       "<style scoped>\n",
       "    .dataframe tbody tr th:only-of-type {\n",
       "        vertical-align: middle;\n",
       "    }\n",
       "\n",
       "    .dataframe tbody tr th {\n",
       "        vertical-align: top;\n",
       "    }\n",
       "\n",
       "    .dataframe thead th {\n",
       "        text-align: right;\n",
       "    }\n",
       "</style>\n",
       "<table border=\"1\" class=\"dataframe\">\n",
       "  <thead>\n",
       "    <tr style=\"text-align: right;\">\n",
       "      <th></th>\n",
       "      <th>Tables_in_world</th>\n",
       "    </tr>\n",
       "  </thead>\n",
       "  <tbody>\n",
       "    <tr>\n",
       "      <th>0</th>\n",
       "      <td>city</td>\n",
       "    </tr>\n",
       "    <tr>\n",
       "      <th>1</th>\n",
       "      <td>country</td>\n",
       "    </tr>\n",
       "    <tr>\n",
       "      <th>2</th>\n",
       "      <td>countrylanguage</td>\n",
       "    </tr>\n",
       "  </tbody>\n",
       "</table>\n",
       "</div>"
      ],
      "text/plain": [
       "   Tables_in_world\n",
       "0             city\n",
       "1          country\n",
       "2  countrylanguage"
      ]
     },
     "execution_count": 3,
     "metadata": {},
     "output_type": "execute_result"
    }
   ],
   "source": [
    "query = \"\"\"\n",
    "SHOW TABLES\n",
    "\"\"\"\n",
    "df = pd.read_sql(query, conn)\n",
    "df.head()"
   ]
  },
  {
   "cell_type": "markdown",
   "id": "94f46f82",
   "metadata": {},
   "source": [
    "How many columns there are in table?"
   ]
  },
  {
   "cell_type": "code",
   "execution_count": 10,
   "id": "c0da773c",
   "metadata": {},
   "outputs": [
    {
     "data": {
      "application/vnd.microsoft.datawrangler.viewer.v0+json": {
       "columns": [
        {
         "name": "index",
         "rawType": "int64",
         "type": "integer"
        },
        {
         "name": "Field",
         "rawType": "object",
         "type": "string"
        },
        {
         "name": "Type",
         "rawType": "object",
         "type": "string"
        },
        {
         "name": "Null",
         "rawType": "object",
         "type": "string"
        },
        {
         "name": "Key",
         "rawType": "object",
         "type": "string"
        },
        {
         "name": "Default",
         "rawType": "object",
         "type": "unknown"
        },
        {
         "name": "Extra",
         "rawType": "object",
         "type": "string"
        }
       ],
       "ref": "0762e2a9-c8ce-4a4e-8477-1a183496c0ce",
       "rows": [
        [
         "0",
         "Code",
         "char(3)",
         "NO",
         "PRI",
         "",
         ""
        ],
        [
         "1",
         "Name",
         "char(52)",
         "NO",
         "",
         "",
         ""
        ],
        [
         "2",
         "Continent",
         "enum('Asia','Europe','North America','Africa','Oceania','Antarctica','South America')",
         "NO",
         "",
         "Asia",
         ""
        ],
        [
         "3",
         "Region",
         "char(26)",
         "NO",
         "",
         "",
         ""
        ],
        [
         "4",
         "SurfaceArea",
         "decimal(10,2)",
         "NO",
         "",
         "0.00",
         ""
        ],
        [
         "5",
         "IndepYear",
         "smallint",
         "YES",
         "",
         null,
         ""
        ],
        [
         "6",
         "Population",
         "int",
         "NO",
         "",
         "0",
         ""
        ],
        [
         "7",
         "LifeExpectancy",
         "decimal(3,1)",
         "YES",
         "",
         null,
         ""
        ],
        [
         "8",
         "GNP",
         "decimal(10,2)",
         "YES",
         "",
         null,
         ""
        ],
        [
         "9",
         "GNPOld",
         "decimal(10,2)",
         "YES",
         "",
         null,
         ""
        ],
        [
         "10",
         "LocalName",
         "char(45)",
         "NO",
         "",
         "",
         ""
        ],
        [
         "11",
         "GovernmentForm",
         "char(45)",
         "NO",
         "",
         "",
         ""
        ],
        [
         "12",
         "HeadOfState",
         "char(60)",
         "YES",
         "",
         null,
         ""
        ],
        [
         "13",
         "Capital",
         "int",
         "YES",
         "",
         null,
         ""
        ],
        [
         "14",
         "Code2",
         "char(2)",
         "NO",
         "",
         "",
         ""
        ]
       ],
       "shape": {
        "columns": 6,
        "rows": 15
       }
      },
      "text/html": [
       "<div>\n",
       "<style scoped>\n",
       "    .dataframe tbody tr th:only-of-type {\n",
       "        vertical-align: middle;\n",
       "    }\n",
       "\n",
       "    .dataframe tbody tr th {\n",
       "        vertical-align: top;\n",
       "    }\n",
       "\n",
       "    .dataframe thead th {\n",
       "        text-align: right;\n",
       "    }\n",
       "</style>\n",
       "<table border=\"1\" class=\"dataframe\">\n",
       "  <thead>\n",
       "    <tr style=\"text-align: right;\">\n",
       "      <th></th>\n",
       "      <th>Field</th>\n",
       "      <th>Type</th>\n",
       "      <th>Null</th>\n",
       "      <th>Key</th>\n",
       "      <th>Default</th>\n",
       "      <th>Extra</th>\n",
       "    </tr>\n",
       "  </thead>\n",
       "  <tbody>\n",
       "    <tr>\n",
       "      <th>0</th>\n",
       "      <td>Code</td>\n",
       "      <td>char(3)</td>\n",
       "      <td>NO</td>\n",
       "      <td>PRI</td>\n",
       "      <td></td>\n",
       "      <td></td>\n",
       "    </tr>\n",
       "    <tr>\n",
       "      <th>1</th>\n",
       "      <td>Name</td>\n",
       "      <td>char(52)</td>\n",
       "      <td>NO</td>\n",
       "      <td></td>\n",
       "      <td></td>\n",
       "      <td></td>\n",
       "    </tr>\n",
       "    <tr>\n",
       "      <th>2</th>\n",
       "      <td>Continent</td>\n",
       "      <td>enum('Asia','Europe','North America','Africa',...</td>\n",
       "      <td>NO</td>\n",
       "      <td></td>\n",
       "      <td>Asia</td>\n",
       "      <td></td>\n",
       "    </tr>\n",
       "    <tr>\n",
       "      <th>3</th>\n",
       "      <td>Region</td>\n",
       "      <td>char(26)</td>\n",
       "      <td>NO</td>\n",
       "      <td></td>\n",
       "      <td></td>\n",
       "      <td></td>\n",
       "    </tr>\n",
       "    <tr>\n",
       "      <th>4</th>\n",
       "      <td>SurfaceArea</td>\n",
       "      <td>decimal(10,2)</td>\n",
       "      <td>NO</td>\n",
       "      <td></td>\n",
       "      <td>0.00</td>\n",
       "      <td></td>\n",
       "    </tr>\n",
       "    <tr>\n",
       "      <th>5</th>\n",
       "      <td>IndepYear</td>\n",
       "      <td>smallint</td>\n",
       "      <td>YES</td>\n",
       "      <td></td>\n",
       "      <td>None</td>\n",
       "      <td></td>\n",
       "    </tr>\n",
       "    <tr>\n",
       "      <th>6</th>\n",
       "      <td>Population</td>\n",
       "      <td>int</td>\n",
       "      <td>NO</td>\n",
       "      <td></td>\n",
       "      <td>0</td>\n",
       "      <td></td>\n",
       "    </tr>\n",
       "    <tr>\n",
       "      <th>7</th>\n",
       "      <td>LifeExpectancy</td>\n",
       "      <td>decimal(3,1)</td>\n",
       "      <td>YES</td>\n",
       "      <td></td>\n",
       "      <td>None</td>\n",
       "      <td></td>\n",
       "    </tr>\n",
       "    <tr>\n",
       "      <th>8</th>\n",
       "      <td>GNP</td>\n",
       "      <td>decimal(10,2)</td>\n",
       "      <td>YES</td>\n",
       "      <td></td>\n",
       "      <td>None</td>\n",
       "      <td></td>\n",
       "    </tr>\n",
       "    <tr>\n",
       "      <th>9</th>\n",
       "      <td>GNPOld</td>\n",
       "      <td>decimal(10,2)</td>\n",
       "      <td>YES</td>\n",
       "      <td></td>\n",
       "      <td>None</td>\n",
       "      <td></td>\n",
       "    </tr>\n",
       "    <tr>\n",
       "      <th>10</th>\n",
       "      <td>LocalName</td>\n",
       "      <td>char(45)</td>\n",
       "      <td>NO</td>\n",
       "      <td></td>\n",
       "      <td></td>\n",
       "      <td></td>\n",
       "    </tr>\n",
       "    <tr>\n",
       "      <th>11</th>\n",
       "      <td>GovernmentForm</td>\n",
       "      <td>char(45)</td>\n",
       "      <td>NO</td>\n",
       "      <td></td>\n",
       "      <td></td>\n",
       "      <td></td>\n",
       "    </tr>\n",
       "    <tr>\n",
       "      <th>12</th>\n",
       "      <td>HeadOfState</td>\n",
       "      <td>char(60)</td>\n",
       "      <td>YES</td>\n",
       "      <td></td>\n",
       "      <td>None</td>\n",
       "      <td></td>\n",
       "    </tr>\n",
       "    <tr>\n",
       "      <th>13</th>\n",
       "      <td>Capital</td>\n",
       "      <td>int</td>\n",
       "      <td>YES</td>\n",
       "      <td></td>\n",
       "      <td>None</td>\n",
       "      <td></td>\n",
       "    </tr>\n",
       "    <tr>\n",
       "      <th>14</th>\n",
       "      <td>Code2</td>\n",
       "      <td>char(2)</td>\n",
       "      <td>NO</td>\n",
       "      <td></td>\n",
       "      <td></td>\n",
       "      <td></td>\n",
       "    </tr>\n",
       "  </tbody>\n",
       "</table>\n",
       "</div>"
      ],
      "text/plain": [
       "             Field                                               Type Null  \\\n",
       "0             Code                                            char(3)   NO   \n",
       "1             Name                                           char(52)   NO   \n",
       "2        Continent  enum('Asia','Europe','North America','Africa',...   NO   \n",
       "3           Region                                           char(26)   NO   \n",
       "4      SurfaceArea                                      decimal(10,2)   NO   \n",
       "5        IndepYear                                           smallint  YES   \n",
       "6       Population                                                int   NO   \n",
       "7   LifeExpectancy                                       decimal(3,1)  YES   \n",
       "8              GNP                                      decimal(10,2)  YES   \n",
       "9           GNPOld                                      decimal(10,2)  YES   \n",
       "10       LocalName                                           char(45)   NO   \n",
       "11  GovernmentForm                                           char(45)   NO   \n",
       "12     HeadOfState                                           char(60)  YES   \n",
       "13         Capital                                                int  YES   \n",
       "14           Code2                                            char(2)   NO   \n",
       "\n",
       "    Key Default Extra  \n",
       "0   PRI                \n",
       "1                      \n",
       "2          Asia        \n",
       "3                      \n",
       "4          0.00        \n",
       "5          None        \n",
       "6             0        \n",
       "7          None        \n",
       "8          None        \n",
       "9          None        \n",
       "10                     \n",
       "11                     \n",
       "12         None        \n",
       "13         None        \n",
       "14                     "
      ]
     },
     "execution_count": 10,
     "metadata": {},
     "output_type": "execute_result"
    }
   ],
   "source": [
    "query = \"\"\"SHOW COLUMNS FROM country\"\"\"\n",
    "\n",
    "df = pd.read_sql(query, conn)\n",
    "df"
   ]
  },
  {
   "cell_type": "markdown",
   "id": "ac0a0af8",
   "metadata": {},
   "source": [
    "How many countries there are?"
   ]
  },
  {
   "cell_type": "code",
   "execution_count": 4,
   "id": "68b73cd7",
   "metadata": {},
   "outputs": [
    {
     "data": {
      "application/vnd.microsoft.datawrangler.viewer.v0+json": {
       "columns": [
        {
         "name": "index",
         "rawType": "int64",
         "type": "integer"
        },
        {
         "name": "total_countries",
         "rawType": "int64",
         "type": "integer"
        }
       ],
       "ref": "d5b0bb47-7169-4035-bdfa-edc67e8d943a",
       "rows": [
        [
         "0",
         "239"
        ]
       ],
       "shape": {
        "columns": 1,
        "rows": 1
       }
      },
      "text/html": [
       "<div>\n",
       "<style scoped>\n",
       "    .dataframe tbody tr th:only-of-type {\n",
       "        vertical-align: middle;\n",
       "    }\n",
       "\n",
       "    .dataframe tbody tr th {\n",
       "        vertical-align: top;\n",
       "    }\n",
       "\n",
       "    .dataframe thead th {\n",
       "        text-align: right;\n",
       "    }\n",
       "</style>\n",
       "<table border=\"1\" class=\"dataframe\">\n",
       "  <thead>\n",
       "    <tr style=\"text-align: right;\">\n",
       "      <th></th>\n",
       "      <th>total_countries</th>\n",
       "    </tr>\n",
       "  </thead>\n",
       "  <tbody>\n",
       "    <tr>\n",
       "      <th>0</th>\n",
       "      <td>239</td>\n",
       "    </tr>\n",
       "  </tbody>\n",
       "</table>\n",
       "</div>"
      ],
      "text/plain": [
       "   total_countries\n",
       "0              239"
      ]
     },
     "execution_count": 4,
     "metadata": {},
     "output_type": "execute_result"
    }
   ],
   "source": [
    "query = \"\"\"SELECT COUNT(*) AS total_countries FROM country;\n",
    "\"\"\"\n",
    "df = pd.read_sql(query, conn)\n",
    "df"
   ]
  },
  {
   "cell_type": "markdown",
   "id": "c68c490a",
   "metadata": {},
   "source": [
    "How many countries there in continent?"
   ]
  },
  {
   "cell_type": "code",
   "execution_count": null,
   "id": "ab021c36",
   "metadata": {},
   "outputs": [
    {
     "data": {
      "image/png": "[encoded data removed]",
      "text/plain": [
       "<Figure size 640x480 with 1 Axes>"
      ]
     },
     "metadata": {},
     "output_type": "display_data"
    }
   ],
   "source": [
    "query = \"\"\"SELECT Continent, COUNT(*) AS NumberOfCountries FROM country GROUP BY Continent ORDER BY NumberOfCountries DESC\"\"\"\n",
    "\n",
    "df = pd.read_sql(query, conn)\n",
    "\n",
    "sns.barplot(\n",
    "    x=\"NumberOfCountries\", \n",
    "    y=\"Continent\", \n",
    "    data=df, \n",
    "    palette=\"viridis\"\n",
    ")\n",
    "plt.title(\"Number of countries in Contients\")\n",
    "plt.xlabel(\"Number of Countries\")\n",
    "plt.ylabel(\"Continent\")\n",
    "plt.show()\n"
   ]
  }
 ],
 "metadata": {
  "kernelspec": {
   "display_name": "venv",
   "language": "python",
   "name": "python3"
  },
  "language_info": {
   "codemirror_mode": {
    "name": "ipython",
    "version": 3
   },
   "file_extension": ".py",
   "mimetype": "text/x-python",
   "name": "python",
   "nbconvert_exporter": "python",
   "pygments_lexer": "ipython3",
   "version": "3.13.1"
  }
 },
 "nbformat": 4,
 "nbformat_minor": 5
}
