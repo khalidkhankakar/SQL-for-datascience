{
 "cells": [
  {
   "cell_type": "code",
   "execution_count": 1,
   "id": "3f5d2f62",
   "metadata": {},
   "outputs": [],
   "source": [
    "import pandas as pd\n",
    "import matplotlib.pyplot as plt\n",
    "import seaborn as sns\n",
    "import mysql.connector as connector\n",
    "import warnings\n",
    "warnings.filterwarnings(\"ignore\")\n"
   ]
  },
  {
   "cell_type": "code",
   "execution_count": 2,
   "id": "373d8240",
   "metadata": {},
   "outputs": [],
   "source": [
    "conn = connector.connect(\n",
    "   host=\"localhost\",      # or \"127.0.0.1\"\n",
    "    user=\"root\",           # your MySQL username\n",
    "    password=\"1234\",\n",
    "    database=\"world\"\n",
    ")"
   ]
  },
  {
   "cell_type": "code",
   "execution_count": 3,
   "id": "121ab6ac",
   "metadata": {},
   "outputs": [
    {
     "data": {
      "application/vnd.microsoft.datawrangler.viewer.v0+json": {
       "columns": [
        {
         "name": "index",
         "rawType": "int64",
         "type": "integer"
        },
        {
         "name": "Tables_in_world",
         "rawType": "object",
         "type": "string"
        }
       ],
       "ref": "97eac7e4-b006-4018-925f-84079e7ead29",
       "rows": [
        [
         "0",
         "city"
        ],
        [
         "1",
         "country"
        ],
        [
         "2",
         "countrylanguage"
        ]
       ],
       "shape": {
        "columns": 1,
        "rows": 3
       }
      },
      "text/html": [
       "<div>\n",
       "<style scoped>\n",
       "    .dataframe tbody tr th:only-of-type {\n",
       "        vertical-align: middle;\n",
       "    }\n",
       "\n",
       "    .dataframe tbody tr th {\n",
       "        vertical-align: top;\n",
       "    }\n",
       "\n",
       "    .dataframe thead th {\n",
       "        text-align: right;\n",
       "    }\n",
       "</style>\n",
       "<table border=\"1\" class=\"dataframe\">\n",
       "  <thead>\n",
       "    <tr style=\"text-align: right;\">\n",
       "      <th></th>\n",
       "      <th>Tables_in_world</th>\n",
       "    </tr>\n",
       "  </thead>\n",
       "  <tbody>\n",
       "    <tr>\n",
       "      <th>0</th>\n",
       "      <td>city</td>\n",
       "    </tr>\n",
       "    <tr>\n",
       "      <th>1</th>\n",
       "      <td>country</td>\n",
       "    </tr>\n",
       "    <tr>\n",
       "      <th>2</th>\n",
       "      <td>countrylanguage</td>\n",
       "    </tr>\n",
       "  </tbody>\n",
       "</table>\n",
       "</div>"
      ],
      "text/plain": [
       "   Tables_in_world\n",
       "0             city\n",
       "1          country\n",
       "2  countrylanguage"
      ]
     },
     "execution_count": 3,
     "metadata": {},
     "output_type": "execute_result"
    }
   ],
   "source": [
    "query = \"\"\"\n",
    "SHOW TABLES\n",
    "\"\"\"\n",
    "df = pd.read_sql(query, conn)\n",
    "df.head()"
   ]
  },
  {
   "cell_type": "markdown",
   "id": "94f46f82",
   "metadata": {},
   "source": [
    "How many columns there are in table?"
   ]
  },
  {
   "cell_type": "code",
   "execution_count": 17,
   "id": "c0da773c",
   "metadata": {},
   "outputs": [
    {
     "data": {
      "application/vnd.microsoft.datawrangler.viewer.v0+json": {
       "columns": [
        {
         "name": "index",
         "rawType": "int64",
         "type": "integer"
        },
        {
         "name": "Field",
         "rawType": "object",
         "type": "string"
        },
        {
         "name": "Type",
         "rawType": "object",
         "type": "string"
        },
        {
         "name": "Null",
         "rawType": "object",
         "type": "string"
        },
        {
         "name": "Key",
         "rawType": "object",
         "type": "string"
        },
        {
         "name": "Default",
         "rawType": "object",
         "type": "unknown"
        },
        {
         "name": "Extra",
         "rawType": "object",
         "type": "string"
        }
       ],
       "ref": "0789ac4d-da58-415b-9a61-a8b7d894ddc7",
       "rows": [
        [
         "0",
         "ID",
         "int",
         "NO",
         "PRI",
         null,
         "auto_increment"
        ],
        [
         "1",
         "Name",
         "char(35)",
         "NO",
         "",
         "",
         ""
        ],
        [
         "2",
         "CountryCode",
         "char(3)",
         "NO",
         "MUL",
         "",
         ""
        ],
        [
         "3",
         "District",
         "char(20)",
         "NO",
         "",
         "",
         ""
        ],
        [
         "4",
         "Population",
         "int",
         "NO",
         "",
         "0",
         ""
        ]
       ],
       "shape": {
        "columns": 6,
        "rows": 5
       }
      },
      "text/html": [
       "<div>\n",
       "<style scoped>\n",
       "    .dataframe tbody tr th:only-of-type {\n",
       "        vertical-align: middle;\n",
       "    }\n",
       "\n",
       "    .dataframe tbody tr th {\n",
       "        vertical-align: top;\n",
       "    }\n",
       "\n",
       "    .dataframe thead th {\n",
       "        text-align: right;\n",
       "    }\n",
       "</style>\n",
       "<table border=\"1\" class=\"dataframe\">\n",
       "  <thead>\n",
       "    <tr style=\"text-align: right;\">\n",
       "      <th></th>\n",
       "      <th>Field</th>\n",
       "      <th>Type</th>\n",
       "      <th>Null</th>\n",
       "      <th>Key</th>\n",
       "      <th>Default</th>\n",
       "      <th>Extra</th>\n",
       "    </tr>\n",
       "  </thead>\n",
       "  <tbody>\n",
       "    <tr>\n",
       "      <th>0</th>\n",
       "      <td>ID</td>\n",
       "      <td>int</td>\n",
       "      <td>NO</td>\n",
       "      <td>PRI</td>\n",
       "      <td>None</td>\n",
       "      <td>auto_increment</td>\n",
       "    </tr>\n",
       "    <tr>\n",
       "      <th>1</th>\n",
       "      <td>Name</td>\n",
       "      <td>char(35)</td>\n",
       "      <td>NO</td>\n",
       "      <td></td>\n",
       "      <td></td>\n",
       "      <td></td>\n",
       "    </tr>\n",
       "    <tr>\n",
       "      <th>2</th>\n",
       "      <td>CountryCode</td>\n",
       "      <td>char(3)</td>\n",
       "      <td>NO</td>\n",
       "      <td>MUL</td>\n",
       "      <td></td>\n",
       "      <td></td>\n",
       "    </tr>\n",
       "    <tr>\n",
       "      <th>3</th>\n",
       "      <td>District</td>\n",
       "      <td>char(20)</td>\n",
       "      <td>NO</td>\n",
       "      <td></td>\n",
       "      <td></td>\n",
       "      <td></td>\n",
       "    </tr>\n",
       "    <tr>\n",
       "      <th>4</th>\n",
       "      <td>Population</td>\n",
       "      <td>int</td>\n",
       "      <td>NO</td>\n",
       "      <td></td>\n",
       "      <td>0</td>\n",
       "      <td></td>\n",
       "    </tr>\n",
       "  </tbody>\n",
       "</table>\n",
       "</div>"
      ],
      "text/plain": [
       "         Field      Type Null  Key Default           Extra\n",
       "0           ID       int   NO  PRI    None  auto_increment\n",
       "1         Name  char(35)   NO                             \n",
       "2  CountryCode   char(3)   NO  MUL                        \n",
       "3     District  char(20)   NO                             \n",
       "4   Population       int   NO            0                "
      ]
     },
     "execution_count": 17,
     "metadata": {},
     "output_type": "execute_result"
    }
   ],
   "source": [
    "query = \"\"\"SHOW COLUMNS FROM city\"\"\"\n",
    "\n",
    "df = pd.read_sql(query, conn)\n",
    "df"
   ]
  },
  {
   "cell_type": "markdown",
   "id": "ac0a0af8",
   "metadata": {},
   "source": [
    "How many countries there are?"
   ]
  },
  {
   "cell_type": "code",
   "execution_count": 5,
   "id": "68b73cd7",
   "metadata": {},
   "outputs": [
    {
     "data": {
      "application/vnd.microsoft.datawrangler.viewer.v0+json": {
       "columns": [
        {
         "name": "index",
         "rawType": "int64",
         "type": "integer"
        },
        {
         "name": "total_countries",
         "rawType": "int64",
         "type": "integer"
        }
       ],
       "ref": "1d02149e-b525-41b1-a6b9-7bc92555189b",
       "rows": [
        [
         "0",
         "239"
        ]
       ],
       "shape": {
        "columns": 1,
        "rows": 1
       }
      },
      "text/html": [
       "<div>\n",
       "<style scoped>\n",
       "    .dataframe tbody tr th:only-of-type {\n",
       "        vertical-align: middle;\n",
       "    }\n",
       "\n",
       "    .dataframe tbody tr th {\n",
       "        vertical-align: top;\n",
       "    }\n",
       "\n",
       "    .dataframe thead th {\n",
       "        text-align: right;\n",
       "    }\n",
       "</style>\n",
       "<table border=\"1\" class=\"dataframe\">\n",
       "  <thead>\n",
       "    <tr style=\"text-align: right;\">\n",
       "      <th></th>\n",
       "      <th>total_countries</th>\n",
       "    </tr>\n",
       "  </thead>\n",
       "  <tbody>\n",
       "    <tr>\n",
       "      <th>0</th>\n",
       "      <td>239</td>\n",
       "    </tr>\n",
       "  </tbody>\n",
       "</table>\n",
       "</div>"
      ],
      "text/plain": [
       "   total_countries\n",
       "0              239"
      ]
     },
     "execution_count": 5,
     "metadata": {},
     "output_type": "execute_result"
    }
   ],
   "source": [
    "query = \"\"\"SELECT COUNT(*) AS total_countries FROM country;\n",
    "\"\"\"\n",
    "df = pd.read_sql(query, conn)\n",
    "df"
   ]
  },
  {
   "cell_type": "markdown",
   "id": "c68c490a",
   "metadata": {},
   "source": [
    "How many countries there in continent?"
   ]
  },
  {
   "cell_type": "code",
   "execution_count": 6,
   "id": "ab021c36",
   "metadata": {},
   "outputs": [
    {
     "data": {
      "image/png": "[encoded data removed]",
      "text/plain": [
       "<Figure size 640x480 with 1 Axes>"
      ]
     },
     "metadata": {},
     "output_type": "display_data"
    }
   ],
   "source": [
    "query = \"\"\"SELECT Continent, COUNT(*) AS NumberOfCountries FROM country GROUP BY Continent ORDER BY NumberOfCountries DESC\"\"\"\n",
    "\n",
    "df = pd.read_sql(query, conn)\n",
    "\n",
    "ax=sns.barplot(\n",
    "    y=\"NumberOfCountries\", \n",
    "    x=\"Continent\", \n",
    "    data=df, \n",
    "    palette=\"viridis\",\n",
    "    estimator=sum, ci=None\n",
    ")\n",
    "for container in ax.containers:\n",
    "    ax.bar_label(container)\n",
    "plt.title(\"Number of countries in Contients\")\n",
    "plt.xlabel(\"Number of Countries\")\n",
    "plt.ylabel(\"Continent\")\n",
    "plt.xticks(rotation=90)\n",
    "plt.show()\n"
   ]
  },
  {
   "cell_type": "markdown",
   "id": "9814cece",
   "metadata": {},
   "source": [
    "Which 10 countries have the highest population?"
   ]
  },
  {
   "cell_type": "code",
   "execution_count": 7,
   "id": "5f84ba1a",
   "metadata": {},
   "outputs": [
    {
     "data": {
      "image/png": "[encoded data removed]",
      "text/plain": [
       "<Figure size 640x480 with 1 Axes>"
      ]
     },
     "metadata": {},
     "output_type": "display_data"
    }
   ],
   "source": [
    "query = \"\"\"SELECT *  FROM country ORDER BY Population DESC LIMIT 10;\"\"\"\n",
    "df = pd.read_sql(query, conn)\n",
    "\n",
    "ax = sns.barplot(\n",
    "    y=\"Name\",\n",
    "    x=\"Population\",\n",
    "    palette='viridis',\n",
    "    data=df,\n",
    ")\n",
    "\n",
    "for container in ax.containers:\n",
    "    ax.bar_label(container)\n",
    "plt.show()\n"
   ]
  },
  {
   "cell_type": "markdown",
   "id": "a1d603ab",
   "metadata": {},
   "source": [
    "Which 10 countries have the lowest population?"
   ]
  },
  {
   "cell_type": "code",
   "execution_count": 8,
   "id": "8c55e159",
   "metadata": {},
   "outputs": [
    {
     "data": {
      "image/png": "[encoded data removed]",
      "text/plain": [
       "<Figure size 640x480 with 1 Axes>"
      ]
     },
     "metadata": {},
     "output_type": "display_data"
    }
   ],
   "source": [
    "query = \"\"\"SELECT *  FROM country WHERE Population > 0 ORDER BY Population  ASC LIMIT 10 ;\"\"\"\n",
    "df = pd.read_sql(query, conn)\n",
    "\n",
    "ax = sns.barplot(\n",
    "    y=\"Name\",\n",
    "    x=\"Population\",\n",
    "    palette='viridis',\n",
    "    data=df,\n",
    ")\n",
    "\n",
    "for container in ax.containers:\n",
    "    ax.bar_label(container)\n",
    "plt.show()\n"
   ]
  },
  {
   "cell_type": "markdown",
   "id": "39ee497f",
   "metadata": {},
   "source": [
    "What is the total population of each continent?"
   ]
  },
  {
   "cell_type": "code",
   "execution_count": 9,
   "id": "3d86c033",
   "metadata": {},
   "outputs": [
    {
     "data": {
      "application/vnd.microsoft.datawrangler.viewer.v0+json": {
       "columns": [
        {
         "name": "index",
         "rawType": "int64",
         "type": "integer"
        },
        {
         "name": "Continent",
         "rawType": "object",
         "type": "string"
        },
        {
         "name": "TotalPopulation",
         "rawType": "float64",
         "type": "float"
        }
       ],
       "ref": "f3a3be5a-1517-40fb-83fe-be3f4e848f3c",
       "rows": [
        [
         "0",
         "Asia",
         "3705025700.0"
        ],
        [
         "1",
         "Africa",
         "784475000.0"
        ],
        [
         "2",
         "Europe",
         "730074600.0"
        ],
        [
         "3",
         "North America",
         "482993000.0"
        ],
        [
         "4",
         "South America",
         "345780000.0"
        ],
        [
         "5",
         "Oceania",
         "30401150.0"
        ],
        [
         "6",
         "Antarctica",
         "0.0"
        ]
       ],
       "shape": {
        "columns": 2,
        "rows": 7
       }
      },
      "text/html": [
       "<div>\n",
       "<style scoped>\n",
       "    .dataframe tbody tr th:only-of-type {\n",
       "        vertical-align: middle;\n",
       "    }\n",
       "\n",
       "    .dataframe tbody tr th {\n",
       "        vertical-align: top;\n",
       "    }\n",
       "\n",
       "    .dataframe thead th {\n",
       "        text-align: right;\n",
       "    }\n",
       "</style>\n",
       "<table border=\"1\" class=\"dataframe\">\n",
       "  <thead>\n",
       "    <tr style=\"text-align: right;\">\n",
       "      <th></th>\n",
       "      <th>Continent</th>\n",
       "      <th>TotalPopulation</th>\n",
       "    </tr>\n",
       "  </thead>\n",
       "  <tbody>\n",
       "    <tr>\n",
       "      <th>0</th>\n",
       "      <td>Asia</td>\n",
       "      <td>3.705026e+09</td>\n",
       "    </tr>\n",
       "    <tr>\n",
       "      <th>1</th>\n",
       "      <td>Africa</td>\n",
       "      <td>7.844750e+08</td>\n",
       "    </tr>\n",
       "    <tr>\n",
       "      <th>2</th>\n",
       "      <td>Europe</td>\n",
       "      <td>7.300746e+08</td>\n",
       "    </tr>\n",
       "    <tr>\n",
       "      <th>3</th>\n",
       "      <td>North America</td>\n",
       "      <td>4.829930e+08</td>\n",
       "    </tr>\n",
       "    <tr>\n",
       "      <th>4</th>\n",
       "      <td>South America</td>\n",
       "      <td>3.457800e+08</td>\n",
       "    </tr>\n",
       "    <tr>\n",
       "      <th>5</th>\n",
       "      <td>Oceania</td>\n",
       "      <td>3.040115e+07</td>\n",
       "    </tr>\n",
       "    <tr>\n",
       "      <th>6</th>\n",
       "      <td>Antarctica</td>\n",
       "      <td>0.000000e+00</td>\n",
       "    </tr>\n",
       "  </tbody>\n",
       "</table>\n",
       "</div>"
      ],
      "text/plain": [
       "       Continent  TotalPopulation\n",
       "0           Asia     3.705026e+09\n",
       "1         Africa     7.844750e+08\n",
       "2         Europe     7.300746e+08\n",
       "3  North America     4.829930e+08\n",
       "4  South America     3.457800e+08\n",
       "5        Oceania     3.040115e+07\n",
       "6     Antarctica     0.000000e+00"
      ]
     },
     "execution_count": 9,
     "metadata": {},
     "output_type": "execute_result"
    }
   ],
   "source": [
    "query = \"\"\"SELECT Continent, SUM(Population) AS TotalPopulation FROM country GROUP BY Continent ORDER BY TotalPopulation DESC;\"\"\"\n",
    "df = pd.read_sql(query, conn)\n",
    "df"
   ]
  },
  {
   "cell_type": "markdown",
   "id": "823589b6",
   "metadata": {},
   "source": [
    "What is the average life expectancy per continent?"
   ]
  },
  {
   "cell_type": "code",
   "execution_count": 10,
   "id": "1411dab0",
   "metadata": {},
   "outputs": [
    {
     "data": {
      "application/vnd.microsoft.datawrangler.viewer.v0+json": {
       "columns": [
        {
         "name": "index",
         "rawType": "int64",
         "type": "integer"
        },
        {
         "name": "Continent",
         "rawType": "object",
         "type": "string"
        },
        {
         "name": "AVG(LifeExpectancy)",
         "rawType": "float64",
         "type": "float"
        }
       ],
       "ref": "3ff75495-e79c-4ed9-b301-c2f71ae5fc98",
       "rows": [
        [
         "0",
         "North America",
         "72.99189"
        ],
        [
         "1",
         "Asia",
         "67.44118"
        ],
        [
         "2",
         "Africa",
         "52.57193"
        ],
        [
         "3",
         "Europe",
         "75.14773"
        ],
        [
         "4",
         "South America",
         "70.94615"
        ],
        [
         "5",
         "Oceania",
         "69.715"
        ],
        [
         "6",
         "Antarctica",
         null
        ]
       ],
       "shape": {
        "columns": 2,
        "rows": 7
       }
      },
      "text/html": [
       "<div>\n",
       "<style scoped>\n",
       "    .dataframe tbody tr th:only-of-type {\n",
       "        vertical-align: middle;\n",
       "    }\n",
       "\n",
       "    .dataframe tbody tr th {\n",
       "        vertical-align: top;\n",
       "    }\n",
       "\n",
       "    .dataframe thead th {\n",
       "        text-align: right;\n",
       "    }\n",
       "</style>\n",
       "<table border=\"1\" class=\"dataframe\">\n",
       "  <thead>\n",
       "    <tr style=\"text-align: right;\">\n",
       "      <th></th>\n",
       "      <th>Continent</th>\n",
       "      <th>AVG(LifeExpectancy)</th>\n",
       "    </tr>\n",
       "  </thead>\n",
       "  <tbody>\n",
       "    <tr>\n",
       "      <th>0</th>\n",
       "      <td>North America</td>\n",
       "      <td>72.99189</td>\n",
       "    </tr>\n",
       "    <tr>\n",
       "      <th>1</th>\n",
       "      <td>Asia</td>\n",
       "      <td>67.44118</td>\n",
       "    </tr>\n",
       "    <tr>\n",
       "      <th>2</th>\n",
       "      <td>Africa</td>\n",
       "      <td>52.57193</td>\n",
       "    </tr>\n",
       "    <tr>\n",
       "      <th>3</th>\n",
       "      <td>Europe</td>\n",
       "      <td>75.14773</td>\n",
       "    </tr>\n",
       "    <tr>\n",
       "      <th>4</th>\n",
       "      <td>South America</td>\n",
       "      <td>70.94615</td>\n",
       "    </tr>\n",
       "    <tr>\n",
       "      <th>5</th>\n",
       "      <td>Oceania</td>\n",
       "      <td>69.71500</td>\n",
       "    </tr>\n",
       "    <tr>\n",
       "      <th>6</th>\n",
       "      <td>Antarctica</td>\n",
       "      <td>NaN</td>\n",
       "    </tr>\n",
       "  </tbody>\n",
       "</table>\n",
       "</div>"
      ],
      "text/plain": [
       "       Continent  AVG(LifeExpectancy)\n",
       "0  North America             72.99189\n",
       "1           Asia             67.44118\n",
       "2         Africa             52.57193\n",
       "3         Europe             75.14773\n",
       "4  South America             70.94615\n",
       "5        Oceania             69.71500\n",
       "6     Antarctica                  NaN"
      ]
     },
     "execution_count": 10,
     "metadata": {},
     "output_type": "execute_result"
    }
   ],
   "source": [
    "query = \"\"\"SELECT Continent, AVG(LifeExpectancy) FROM country GROUP BY Continent\"\"\"\n",
    "df = pd.read_sql(query, conn)\n",
    "df"
   ]
  },
  {
   "cell_type": "markdown",
   "id": "7fa2b020",
   "metadata": {},
   "source": [
    "Which 10 countries have the highest GNP?"
   ]
  },
  {
   "cell_type": "code",
   "execution_count": 11,
   "id": "b499d674",
   "metadata": {},
   "outputs": [
    {
     "data": {
      "application/vnd.microsoft.datawrangler.viewer.v0+json": {
       "columns": [
        {
         "name": "index",
         "rawType": "int64",
         "type": "integer"
        },
        {
         "name": "Name",
         "rawType": "object",
         "type": "string"
        },
        {
         "name": "GNP",
         "rawType": "float64",
         "type": "float"
        }
       ],
       "ref": "514e5634-d8cb-45f6-b86d-702c14ae5faf",
       "rows": [
        [
         "0",
         "United States",
         "8510700.0"
        ],
        [
         "1",
         "Japan",
         "3787042.0"
        ],
        [
         "2",
         "Germany",
         "2133367.0"
        ],
        [
         "3",
         "France",
         "1424285.0"
        ],
        [
         "4",
         "United Kingdom",
         "1378330.0"
        ],
        [
         "5",
         "Italy",
         "1161755.0"
        ],
        [
         "6",
         "China",
         "982268.0"
        ],
        [
         "7",
         "Brazil",
         "776739.0"
        ],
        [
         "8",
         "Canada",
         "598862.0"
        ],
        [
         "9",
         "Spain",
         "553233.0"
        ]
       ],
       "shape": {
        "columns": 2,
        "rows": 10
       }
      },
      "text/html": [
       "<div>\n",
       "<style scoped>\n",
       "    .dataframe tbody tr th:only-of-type {\n",
       "        vertical-align: middle;\n",
       "    }\n",
       "\n",
       "    .dataframe tbody tr th {\n",
       "        vertical-align: top;\n",
       "    }\n",
       "\n",
       "    .dataframe thead th {\n",
       "        text-align: right;\n",
       "    }\n",
       "</style>\n",
       "<table border=\"1\" class=\"dataframe\">\n",
       "  <thead>\n",
       "    <tr style=\"text-align: right;\">\n",
       "      <th></th>\n",
       "      <th>Name</th>\n",
       "      <th>GNP</th>\n",
       "    </tr>\n",
       "  </thead>\n",
       "  <tbody>\n",
       "    <tr>\n",
       "      <th>0</th>\n",
       "      <td>United States</td>\n",
       "      <td>8510700.0</td>\n",
       "    </tr>\n",
       "    <tr>\n",
       "      <th>1</th>\n",
       "      <td>Japan</td>\n",
       "      <td>3787042.0</td>\n",
       "    </tr>\n",
       "    <tr>\n",
       "      <th>2</th>\n",
       "      <td>Germany</td>\n",
       "      <td>2133367.0</td>\n",
       "    </tr>\n",
       "    <tr>\n",
       "      <th>3</th>\n",
       "      <td>France</td>\n",
       "      <td>1424285.0</td>\n",
       "    </tr>\n",
       "    <tr>\n",
       "      <th>4</th>\n",
       "      <td>United Kingdom</td>\n",
       "      <td>1378330.0</td>\n",
       "    </tr>\n",
       "    <tr>\n",
       "      <th>5</th>\n",
       "      <td>Italy</td>\n",
       "      <td>1161755.0</td>\n",
       "    </tr>\n",
       "    <tr>\n",
       "      <th>6</th>\n",
       "      <td>China</td>\n",
       "      <td>982268.0</td>\n",
       "    </tr>\n",
       "    <tr>\n",
       "      <th>7</th>\n",
       "      <td>Brazil</td>\n",
       "      <td>776739.0</td>\n",
       "    </tr>\n",
       "    <tr>\n",
       "      <th>8</th>\n",
       "      <td>Canada</td>\n",
       "      <td>598862.0</td>\n",
       "    </tr>\n",
       "    <tr>\n",
       "      <th>9</th>\n",
       "      <td>Spain</td>\n",
       "      <td>553233.0</td>\n",
       "    </tr>\n",
       "  </tbody>\n",
       "</table>\n",
       "</div>"
      ],
      "text/plain": [
       "             Name        GNP\n",
       "0   United States  8510700.0\n",
       "1           Japan  3787042.0\n",
       "2         Germany  2133367.0\n",
       "3          France  1424285.0\n",
       "4  United Kingdom  1378330.0\n",
       "5           Italy  1161755.0\n",
       "6           China   982268.0\n",
       "7          Brazil   776739.0\n",
       "8          Canada   598862.0\n",
       "9           Spain   553233.0"
      ]
     },
     "execution_count": 11,
     "metadata": {},
     "output_type": "execute_result"
    }
   ],
   "source": [
    "query = \"\"\"SELECT Name,GNP FROM COUNTRY ORDER BY GNP DESC LIMIT 10\"\"\"\n",
    "df = pd.read_sql(query, conn)\n",
    "df"
   ]
  },
  {
   "cell_type": "markdown",
   "id": "bffc7db7",
   "metadata": {},
   "source": [
    "Which 10 countries have the highest GNP per capita?"
   ]
  },
  {
   "cell_type": "code",
   "execution_count": 12,
   "id": "bec7898e",
   "metadata": {},
   "outputs": [
    {
     "data": {
      "application/vnd.microsoft.datawrangler.viewer.v0+json": {
       "columns": [
        {
         "name": "index",
         "rawType": "int64",
         "type": "integer"
        },
        {
         "name": "Name",
         "rawType": "object",
         "type": "string"
        },
        {
         "name": "GNP",
         "rawType": "float64",
         "type": "float"
        },
        {
         "name": "Population",
         "rawType": "int64",
         "type": "integer"
        },
        {
         "name": "GNPPerCapita",
         "rawType": "float64",
         "type": "float"
        }
       ],
       "ref": "377214f7-eebd-4c79-bcf7-ba1cc9c52b8c",
       "rows": [
        [
         "0",
         "Luxembourg",
         "16321.0",
         "435700",
         "0.037459"
        ],
        [
         "1",
         "Switzerland",
         "264478.0",
         "7160400",
         "0.036936"
        ],
        [
         "2",
         "Bermuda",
         "2328.0",
         "65000",
         "0.035815"
        ],
        [
         "3",
         "Brunei",
         "11705.0",
         "328000",
         "0.035686"
        ],
        [
         "4",
         "Liechtenstein",
         "1119.0",
         "32300",
         "0.034644"
        ],
        [
         "5",
         "Cayman Islands",
         "1263.0",
         "38000",
         "0.033237"
        ],
        [
         "6",
         "Denmark",
         "174099.0",
         "5330000",
         "0.032664"
        ],
        [
         "7",
         "Norway",
         "145895.0",
         "4478500",
         "0.032577"
        ],
        [
         "8",
         "United States",
         "8510700.0",
         "278357000",
         "0.030575"
        ],
        [
         "9",
         "Japan",
         "3787042.0",
         "126714000",
         "0.029887"
        ]
       ],
       "shape": {
        "columns": 4,
        "rows": 10
       }
      },
      "text/html": [
       "<div>\n",
       "<style scoped>\n",
       "    .dataframe tbody tr th:only-of-type {\n",
       "        vertical-align: middle;\n",
       "    }\n",
       "\n",
       "    .dataframe tbody tr th {\n",
       "        vertical-align: top;\n",
       "    }\n",
       "\n",
       "    .dataframe thead th {\n",
       "        text-align: right;\n",
       "    }\n",
       "</style>\n",
       "<table border=\"1\" class=\"dataframe\">\n",
       "  <thead>\n",
       "    <tr style=\"text-align: right;\">\n",
       "      <th></th>\n",
       "      <th>Name</th>\n",
       "      <th>GNP</th>\n",
       "      <th>Population</th>\n",
       "      <th>GNPPerCapita</th>\n",
       "    </tr>\n",
       "  </thead>\n",
       "  <tbody>\n",
       "    <tr>\n",
       "      <th>0</th>\n",
       "      <td>Luxembourg</td>\n",
       "      <td>16321.0</td>\n",
       "      <td>435700</td>\n",
       "      <td>0.037459</td>\n",
       "    </tr>\n",
       "    <tr>\n",
       "      <th>1</th>\n",
       "      <td>Switzerland</td>\n",
       "      <td>264478.0</td>\n",
       "      <td>7160400</td>\n",
       "      <td>0.036936</td>\n",
       "    </tr>\n",
       "    <tr>\n",
       "      <th>2</th>\n",
       "      <td>Bermuda</td>\n",
       "      <td>2328.0</td>\n",
       "      <td>65000</td>\n",
       "      <td>0.035815</td>\n",
       "    </tr>\n",
       "    <tr>\n",
       "      <th>3</th>\n",
       "      <td>Brunei</td>\n",
       "      <td>11705.0</td>\n",
       "      <td>328000</td>\n",
       "      <td>0.035686</td>\n",
       "    </tr>\n",
       "    <tr>\n",
       "      <th>4</th>\n",
       "      <td>Liechtenstein</td>\n",
       "      <td>1119.0</td>\n",
       "      <td>32300</td>\n",
       "      <td>0.034644</td>\n",
       "    </tr>\n",
       "    <tr>\n",
       "      <th>5</th>\n",
       "      <td>Cayman Islands</td>\n",
       "      <td>1263.0</td>\n",
       "      <td>38000</td>\n",
       "      <td>0.033237</td>\n",
       "    </tr>\n",
       "    <tr>\n",
       "      <th>6</th>\n",
       "      <td>Denmark</td>\n",
       "      <td>174099.0</td>\n",
       "      <td>5330000</td>\n",
       "      <td>0.032664</td>\n",
       "    </tr>\n",
       "    <tr>\n",
       "      <th>7</th>\n",
       "      <td>Norway</td>\n",
       "      <td>145895.0</td>\n",
       "      <td>4478500</td>\n",
       "      <td>0.032577</td>\n",
       "    </tr>\n",
       "    <tr>\n",
       "      <th>8</th>\n",
       "      <td>United States</td>\n",
       "      <td>8510700.0</td>\n",
       "      <td>278357000</td>\n",
       "      <td>0.030575</td>\n",
       "    </tr>\n",
       "    <tr>\n",
       "      <th>9</th>\n",
       "      <td>Japan</td>\n",
       "      <td>3787042.0</td>\n",
       "      <td>126714000</td>\n",
       "      <td>0.029887</td>\n",
       "    </tr>\n",
       "  </tbody>\n",
       "</table>\n",
       "</div>"
      ],
      "text/plain": [
       "             Name        GNP  Population  GNPPerCapita\n",
       "0      Luxembourg    16321.0      435700      0.037459\n",
       "1     Switzerland   264478.0     7160400      0.036936\n",
       "2         Bermuda     2328.0       65000      0.035815\n",
       "3          Brunei    11705.0      328000      0.035686\n",
       "4   Liechtenstein     1119.0       32300      0.034644\n",
       "5  Cayman Islands     1263.0       38000      0.033237\n",
       "6         Denmark   174099.0     5330000      0.032664\n",
       "7          Norway   145895.0     4478500      0.032577\n",
       "8   United States  8510700.0   278357000      0.030575\n",
       "9           Japan  3787042.0   126714000      0.029887"
      ]
     },
     "execution_count": 12,
     "metadata": {},
     "output_type": "execute_result"
    }
   ],
   "source": [
    "query = \"\"\"SELECT Name, GNP,Population, (GNP/Population) AS GNPPerCapita FROM country WHERE Population > 0 ORDER BY GNPPerCapita DESC LIMIT 10; \"\"\"\n",
    "df = pd.read_sql(query, conn)\n",
    "df"
   ]
  },
  {
   "cell_type": "markdown",
   "id": "ba2283b0",
   "metadata": {},
   "source": [
    "Find the average surface area of countries by continent."
   ]
  },
  {
   "cell_type": "code",
   "execution_count": 13,
   "id": "9fbbfbf6",
   "metadata": {},
   "outputs": [
    {
     "data": {
      "application/vnd.microsoft.datawrangler.viewer.v0+json": {
       "columns": [
        {
         "name": "index",
         "rawType": "int64",
         "type": "integer"
        },
        {
         "name": "Continent",
         "rawType": "object",
         "type": "string"
        },
        {
         "name": "AvgSurfaceArea",
         "rawType": "float64",
         "type": "float"
        }
       ],
       "ref": "a88c4905-d757-49eb-be67-7f71070e356c",
       "rows": [
        [
         "0",
         "Antarctica",
         "2626420.2"
        ],
        [
         "1",
         "South America",
         "1276066.142857"
        ],
        [
         "2",
         "North America",
         "654445.135135"
        ],
        [
         "3",
         "Asia",
         "625117.745098"
        ],
        [
         "4",
         "Africa",
         "521558.224138"
        ],
        [
         "5",
         "Europe",
         "501068.128261"
        ],
        [
         "6",
         "Oceania",
         "305867.642857"
        ]
       ],
       "shape": {
        "columns": 2,
        "rows": 7
       }
      },
      "text/html": [
       "<div>\n",
       "<style scoped>\n",
       "    .dataframe tbody tr th:only-of-type {\n",
       "        vertical-align: middle;\n",
       "    }\n",
       "\n",
       "    .dataframe tbody tr th {\n",
       "        vertical-align: top;\n",
       "    }\n",
       "\n",
       "    .dataframe thead th {\n",
       "        text-align: right;\n",
       "    }\n",
       "</style>\n",
       "<table border=\"1\" class=\"dataframe\">\n",
       "  <thead>\n",
       "    <tr style=\"text-align: right;\">\n",
       "      <th></th>\n",
       "      <th>Continent</th>\n",
       "      <th>AvgSurfaceArea</th>\n",
       "    </tr>\n",
       "  </thead>\n",
       "  <tbody>\n",
       "    <tr>\n",
       "      <th>0</th>\n",
       "      <td>Antarctica</td>\n",
       "      <td>2.626420e+06</td>\n",
       "    </tr>\n",
       "    <tr>\n",
       "      <th>1</th>\n",
       "      <td>South America</td>\n",
       "      <td>1.276066e+06</td>\n",
       "    </tr>\n",
       "    <tr>\n",
       "      <th>2</th>\n",
       "      <td>North America</td>\n",
       "      <td>6.544451e+05</td>\n",
       "    </tr>\n",
       "    <tr>\n",
       "      <th>3</th>\n",
       "      <td>Asia</td>\n",
       "      <td>6.251177e+05</td>\n",
       "    </tr>\n",
       "    <tr>\n",
       "      <th>4</th>\n",
       "      <td>Africa</td>\n",
       "      <td>5.215582e+05</td>\n",
       "    </tr>\n",
       "    <tr>\n",
       "      <th>5</th>\n",
       "      <td>Europe</td>\n",
       "      <td>5.010681e+05</td>\n",
       "    </tr>\n",
       "    <tr>\n",
       "      <th>6</th>\n",
       "      <td>Oceania</td>\n",
       "      <td>3.058676e+05</td>\n",
       "    </tr>\n",
       "  </tbody>\n",
       "</table>\n",
       "</div>"
      ],
      "text/plain": [
       "       Continent  AvgSurfaceArea\n",
       "0     Antarctica    2.626420e+06\n",
       "1  South America    1.276066e+06\n",
       "2  North America    6.544451e+05\n",
       "3           Asia    6.251177e+05\n",
       "4         Africa    5.215582e+05\n",
       "5         Europe    5.010681e+05\n",
       "6        Oceania    3.058676e+05"
      ]
     },
     "execution_count": 13,
     "metadata": {},
     "output_type": "execute_result"
    }
   ],
   "source": [
    "query = \"\"\"SELECT Continent, AVG(SurfaceArea) AS AvgSurfaceArea\n",
    "FROM country\n",
    "GROUP BY Continent\n",
    "ORDER BY AvgSurfaceArea DESC;\n",
    "\"\"\"\n",
    "\n",
    "df = pd.read_sql(query, conn)\n",
    "df"
   ]
  },
  {
   "cell_type": "markdown",
   "id": "5ed71fc0",
   "metadata": {},
   "source": [
    "Which continents have more than 20 countries?"
   ]
  },
  {
   "cell_type": "code",
   "execution_count": 14,
   "id": "ac6084bf",
   "metadata": {},
   "outputs": [
    {
     "data": {
      "application/vnd.microsoft.datawrangler.viewer.v0+json": {
       "columns": [
        {
         "name": "index",
         "rawType": "int64",
         "type": "integer"
        },
        {
         "name": "Continent",
         "rawType": "object",
         "type": "string"
        },
        {
         "name": "CountriesPerContinent",
         "rawType": "int64",
         "type": "integer"
        }
       ],
       "ref": "5f23b9c5-a89d-4fd2-8080-80af22b23165",
       "rows": [
        [
         "0",
         "North America",
         "37"
        ],
        [
         "1",
         "Asia",
         "51"
        ],
        [
         "2",
         "Africa",
         "58"
        ],
        [
         "3",
         "Europe",
         "46"
        ],
        [
         "4",
         "Oceania",
         "28"
        ]
       ],
       "shape": {
        "columns": 2,
        "rows": 5
       }
      },
      "text/html": [
       "<div>\n",
       "<style scoped>\n",
       "    .dataframe tbody tr th:only-of-type {\n",
       "        vertical-align: middle;\n",
       "    }\n",
       "\n",
       "    .dataframe tbody tr th {\n",
       "        vertical-align: top;\n",
       "    }\n",
       "\n",
       "    .dataframe thead th {\n",
       "        text-align: right;\n",
       "    }\n",
       "</style>\n",
       "<table border=\"1\" class=\"dataframe\">\n",
       "  <thead>\n",
       "    <tr style=\"text-align: right;\">\n",
       "      <th></th>\n",
       "      <th>Continent</th>\n",
       "      <th>CountriesPerContinent</th>\n",
       "    </tr>\n",
       "  </thead>\n",
       "  <tbody>\n",
       "    <tr>\n",
       "      <th>0</th>\n",
       "      <td>North America</td>\n",
       "      <td>37</td>\n",
       "    </tr>\n",
       "    <tr>\n",
       "      <th>1</th>\n",
       "      <td>Asia</td>\n",
       "      <td>51</td>\n",
       "    </tr>\n",
       "    <tr>\n",
       "      <th>2</th>\n",
       "      <td>Africa</td>\n",
       "      <td>58</td>\n",
       "    </tr>\n",
       "    <tr>\n",
       "      <th>3</th>\n",
       "      <td>Europe</td>\n",
       "      <td>46</td>\n",
       "    </tr>\n",
       "    <tr>\n",
       "      <th>4</th>\n",
       "      <td>Oceania</td>\n",
       "      <td>28</td>\n",
       "    </tr>\n",
       "  </tbody>\n",
       "</table>\n",
       "</div>"
      ],
      "text/plain": [
       "       Continent  CountriesPerContinent\n",
       "0  North America                     37\n",
       "1           Asia                     51\n",
       "2         Africa                     58\n",
       "3         Europe                     46\n",
       "4        Oceania                     28"
      ]
     },
     "execution_count": 14,
     "metadata": {},
     "output_type": "execute_result"
    }
   ],
   "source": [
    "query = \"\"\"SELECT Continent, Count(Name) AS CountriesPerContinent FROM country GROUP BY Continent HAVING COUNT(Name) > 20\"\"\"\n",
    "df = pd.read_sql(query, conn)\n",
    "df"
   ]
  },
  {
   "cell_type": "code",
   "execution_count": 15,
   "id": "79f37cf5",
   "metadata": {},
   "outputs": [
    {
     "data": {
      "application/vnd.microsoft.datawrangler.viewer.v0+json": {
       "columns": [
        {
         "name": "index",
         "rawType": "int64",
         "type": "integer"
        },
        {
         "name": "Continent",
         "rawType": "object",
         "type": "string"
        },
        {
         "name": "AvgPopulationPerCountry",
         "rawType": "float64",
         "type": "float"
        }
       ],
       "ref": "cbf4d892-c586-4ac5-a45d-fa2ecb2f87d0",
       "rows": [
        [
         "0",
         "Asia",
         "72647562.7451"
        ],
        [
         "1",
         "South America",
         "24698571.4286"
        ],
        [
         "2",
         "Europe",
         "15871186.9565"
        ],
        [
         "3",
         "Africa",
         "13525431.0345"
        ],
        [
         "4",
         "North America",
         "13053864.8649"
        ],
        [
         "5",
         "Oceania",
         "1085755.3571"
        ],
        [
         "6",
         "Antarctica",
         "0.0"
        ]
       ],
       "shape": {
        "columns": 2,
        "rows": 7
       }
      },
      "text/html": [
       "<div>\n",
       "<style scoped>\n",
       "    .dataframe tbody tr th:only-of-type {\n",
       "        vertical-align: middle;\n",
       "    }\n",
       "\n",
       "    .dataframe tbody tr th {\n",
       "        vertical-align: top;\n",
       "    }\n",
       "\n",
       "    .dataframe thead th {\n",
       "        text-align: right;\n",
       "    }\n",
       "</style>\n",
       "<table border=\"1\" class=\"dataframe\">\n",
       "  <thead>\n",
       "    <tr style=\"text-align: right;\">\n",
       "      <th></th>\n",
       "      <th>Continent</th>\n",
       "      <th>AvgPopulationPerCountry</th>\n",
       "    </tr>\n",
       "  </thead>\n",
       "  <tbody>\n",
       "    <tr>\n",
       "      <th>0</th>\n",
       "      <td>Asia</td>\n",
       "      <td>7.264756e+07</td>\n",
       "    </tr>\n",
       "    <tr>\n",
       "      <th>1</th>\n",
       "      <td>South America</td>\n",
       "      <td>2.469857e+07</td>\n",
       "    </tr>\n",
       "    <tr>\n",
       "      <th>2</th>\n",
       "      <td>Europe</td>\n",
       "      <td>1.587119e+07</td>\n",
       "    </tr>\n",
       "    <tr>\n",
       "      <th>3</th>\n",
       "      <td>Africa</td>\n",
       "      <td>1.352543e+07</td>\n",
       "    </tr>\n",
       "    <tr>\n",
       "      <th>4</th>\n",
       "      <td>North America</td>\n",
       "      <td>1.305386e+07</td>\n",
       "    </tr>\n",
       "    <tr>\n",
       "      <th>5</th>\n",
       "      <td>Oceania</td>\n",
       "      <td>1.085755e+06</td>\n",
       "    </tr>\n",
       "    <tr>\n",
       "      <th>6</th>\n",
       "      <td>Antarctica</td>\n",
       "      <td>0.000000e+00</td>\n",
       "    </tr>\n",
       "  </tbody>\n",
       "</table>\n",
       "</div>"
      ],
      "text/plain": [
       "       Continent  AvgPopulationPerCountry\n",
       "0           Asia             7.264756e+07\n",
       "1  South America             2.469857e+07\n",
       "2         Europe             1.587119e+07\n",
       "3         Africa             1.352543e+07\n",
       "4  North America             1.305386e+07\n",
       "5        Oceania             1.085755e+06\n",
       "6     Antarctica             0.000000e+00"
      ]
     },
     "execution_count": 15,
     "metadata": {},
     "output_type": "execute_result"
    }
   ],
   "source": [
    "query = \"\"\"SELECT Continent, AVG(Population) AS AvgPopulationPerCountry\n",
    "FROM country\n",
    "GROUP BY Continent\n",
    "ORDER BY AvgPopulationPerCountry DESC;\"\"\"\n",
    "\n",
    "df = pd.read_sql(query, conn)\n",
    "df\n"
   ]
  },
  {
   "cell_type": "markdown",
   "id": "2fdafda8",
   "metadata": {},
   "source": [
    "How many countries speak each language (from countrylanguage table)?"
   ]
  },
  {
   "cell_type": "code",
   "execution_count": 20,
   "id": "4b7dd6d3",
   "metadata": {},
   "outputs": [
    {
     "data": {
      "application/vnd.microsoft.datawrangler.viewer.v0+json": {
       "columns": [
        {
         "name": "index",
         "rawType": "int64",
         "type": "integer"
        },
        {
         "name": "Language",
         "rawType": "object",
         "type": "string"
        },
        {
         "name": "CountriesSpeaking",
         "rawType": "int64",
         "type": "integer"
        }
       ],
       "ref": "22519018-3f44-461e-93f1-ce485b08d518",
       "rows": [
        [
         "0",
         "English",
         "60"
        ],
        [
         "1",
         "Arabic",
         "33"
        ],
        [
         "2",
         "Spanish",
         "28"
        ],
        [
         "3",
         "French",
         "25"
        ],
        [
         "4",
         "Chinese",
         "19"
        ]
       ],
       "shape": {
        "columns": 2,
        "rows": 5
       }
      },
      "text/html": [
       "<div>\n",
       "<style scoped>\n",
       "    .dataframe tbody tr th:only-of-type {\n",
       "        vertical-align: middle;\n",
       "    }\n",
       "\n",
       "    .dataframe tbody tr th {\n",
       "        vertical-align: top;\n",
       "    }\n",
       "\n",
       "    .dataframe thead th {\n",
       "        text-align: right;\n",
       "    }\n",
       "</style>\n",
       "<table border=\"1\" class=\"dataframe\">\n",
       "  <thead>\n",
       "    <tr style=\"text-align: right;\">\n",
       "      <th></th>\n",
       "      <th>Language</th>\n",
       "      <th>CountriesSpeaking</th>\n",
       "    </tr>\n",
       "  </thead>\n",
       "  <tbody>\n",
       "    <tr>\n",
       "      <th>0</th>\n",
       "      <td>English</td>\n",
       "      <td>60</td>\n",
       "    </tr>\n",
       "    <tr>\n",
       "      <th>1</th>\n",
       "      <td>Arabic</td>\n",
       "      <td>33</td>\n",
       "    </tr>\n",
       "    <tr>\n",
       "      <th>2</th>\n",
       "      <td>Spanish</td>\n",
       "      <td>28</td>\n",
       "    </tr>\n",
       "    <tr>\n",
       "      <th>3</th>\n",
       "      <td>French</td>\n",
       "      <td>25</td>\n",
       "    </tr>\n",
       "    <tr>\n",
       "      <th>4</th>\n",
       "      <td>Chinese</td>\n",
       "      <td>19</td>\n",
       "    </tr>\n",
       "  </tbody>\n",
       "</table>\n",
       "</div>"
      ],
      "text/plain": [
       "  Language  CountriesSpeaking\n",
       "0  English                 60\n",
       "1   Arabic                 33\n",
       "2  Spanish                 28\n",
       "3   French                 25\n",
       "4  Chinese                 19"
      ]
     },
     "execution_count": 20,
     "metadata": {},
     "output_type": "execute_result"
    }
   ],
   "source": [
    "query = \"\"\"SELECT Language, COUNT(DISTINCT CountryCode) AS CountriesSpeaking\n",
    "FROM countrylanguage\n",
    "GROUP BY Language\n",
    "ORDER BY CountriesSpeaking DESC; \"\"\"\n",
    "\n",
    "df = pd.read_sql(query, conn)\n",
    "df.head()\n"
   ]
  },
  {
   "cell_type": "markdown",
   "id": "6a872487",
   "metadata": {},
   "source": [
    "Which languages are the top 10 most widely spoken in terms of population?"
   ]
  },
  {
   "cell_type": "code",
   "execution_count": 23,
   "id": "6aef1f35",
   "metadata": {},
   "outputs": [
    {
     "data": {
      "application/vnd.microsoft.datawrangler.viewer.v0+json": {
       "columns": [
        {
         "name": "index",
         "rawType": "int64",
         "type": "integer"
        },
        {
         "name": "Language",
         "rawType": "object",
         "type": "string"
        },
        {
         "name": "Population",
         "rawType": "int64",
         "type": "integer"
        }
       ],
       "ref": "e0826301-cf16-4145-a657-f4bce9483d02",
       "rows": [
        [
         "0",
         "Chinese",
         "1277558000"
        ],
        [
         "1",
         "Dong",
         "1277558000"
        ],
        [
         "2",
         "Hui",
         "1277558000"
        ],
        [
         "3",
         "Mantšu",
         "1277558000"
        ],
        [
         "4",
         "Miao",
         "1277558000"
        ],
        [
         "5",
         "Mongolian",
         "1277558000"
        ],
        [
         "6",
         "Puyi",
         "1277558000"
        ],
        [
         "7",
         "Tibetan",
         "1277558000"
        ],
        [
         "8",
         "Tujia",
         "1277558000"
        ],
        [
         "9",
         "Uighur",
         "1277558000"
        ]
       ],
       "shape": {
        "columns": 2,
        "rows": 10
       }
      },
      "text/html": [
       "<div>\n",
       "<style scoped>\n",
       "    .dataframe tbody tr th:only-of-type {\n",
       "        vertical-align: middle;\n",
       "    }\n",
       "\n",
       "    .dataframe tbody tr th {\n",
       "        vertical-align: top;\n",
       "    }\n",
       "\n",
       "    .dataframe thead th {\n",
       "        text-align: right;\n",
       "    }\n",
       "</style>\n",
       "<table border=\"1\" class=\"dataframe\">\n",
       "  <thead>\n",
       "    <tr style=\"text-align: right;\">\n",
       "      <th></th>\n",
       "      <th>Language</th>\n",
       "      <th>Population</th>\n",
       "    </tr>\n",
       "  </thead>\n",
       "  <tbody>\n",
       "    <tr>\n",
       "      <th>0</th>\n",
       "      <td>Chinese</td>\n",
       "      <td>1277558000</td>\n",
       "    </tr>\n",
       "    <tr>\n",
       "      <th>1</th>\n",
       "      <td>Dong</td>\n",
       "      <td>1277558000</td>\n",
       "    </tr>\n",
       "    <tr>\n",
       "      <th>2</th>\n",
       "      <td>Hui</td>\n",
       "      <td>1277558000</td>\n",
       "    </tr>\n",
       "    <tr>\n",
       "      <th>3</th>\n",
       "      <td>Mantšu</td>\n",
       "      <td>1277558000</td>\n",
       "    </tr>\n",
       "    <tr>\n",
       "      <th>4</th>\n",
       "      <td>Miao</td>\n",
       "      <td>1277558000</td>\n",
       "    </tr>\n",
       "    <tr>\n",
       "      <th>5</th>\n",
       "      <td>Mongolian</td>\n",
       "      <td>1277558000</td>\n",
       "    </tr>\n",
       "    <tr>\n",
       "      <th>6</th>\n",
       "      <td>Puyi</td>\n",
       "      <td>1277558000</td>\n",
       "    </tr>\n",
       "    <tr>\n",
       "      <th>7</th>\n",
       "      <td>Tibetan</td>\n",
       "      <td>1277558000</td>\n",
       "    </tr>\n",
       "    <tr>\n",
       "      <th>8</th>\n",
       "      <td>Tujia</td>\n",
       "      <td>1277558000</td>\n",
       "    </tr>\n",
       "    <tr>\n",
       "      <th>9</th>\n",
       "      <td>Uighur</td>\n",
       "      <td>1277558000</td>\n",
       "    </tr>\n",
       "  </tbody>\n",
       "</table>\n",
       "</div>"
      ],
      "text/plain": [
       "    Language  Population\n",
       "0    Chinese  1277558000\n",
       "1       Dong  1277558000\n",
       "2        Hui  1277558000\n",
       "3     Mantšu  1277558000\n",
       "4       Miao  1277558000\n",
       "5  Mongolian  1277558000\n",
       "6       Puyi  1277558000\n",
       "7    Tibetan  1277558000\n",
       "8      Tujia  1277558000\n",
       "9     Uighur  1277558000"
      ]
     },
     "execution_count": 23,
     "metadata": {},
     "output_type": "execute_result"
    }
   ],
   "source": [
    "query = \"\"\"\n",
    "SELECT countrylanguage.Language, country.Population\n",
    "FROM country\n",
    "LEFT JOIN countrylanguage \n",
    "    ON country.Code = countrylanguage.CountryCode\n",
    "ORDER BY country.Population DESC\n",
    "LIMIT 10;\n",
    "\"\"\"\n",
    "\n",
    "df = pd.read_sql(query, conn)\n",
    "df\n"
   ]
  },
  {
   "cell_type": "markdown",
   "id": "6e61197a",
   "metadata": {},
   "source": [
    "Find the top 10 most populated cities."
   ]
  },
  {
   "cell_type": "code",
   "execution_count": 26,
   "id": "63e86c60",
   "metadata": {},
   "outputs": [
    {
     "data": {
      "application/vnd.microsoft.datawrangler.viewer.v0+json": {
       "columns": [
        {
         "name": "index",
         "rawType": "int64",
         "type": "integer"
        },
        {
         "name": "ID",
         "rawType": "int64",
         "type": "integer"
        },
        {
         "name": "Name",
         "rawType": "object",
         "type": "string"
        },
        {
         "name": "CountryCode",
         "rawType": "object",
         "type": "string"
        },
        {
         "name": "District",
         "rawType": "object",
         "type": "string"
        },
        {
         "name": "Population",
         "rawType": "int64",
         "type": "integer"
        }
       ],
       "ref": "a0db7e67-7646-4412-8a0f-b3079eb001e3",
       "rows": [
        [
         "0",
         "1024",
         "Mumbai (Bombay)",
         "IND",
         "Maharashtra",
         "10500000"
        ],
        [
         "1",
         "2331",
         "Seoul",
         "KOR",
         "Seoul",
         "9981619"
        ],
        [
         "2",
         "206",
         "São Paulo",
         "BRA",
         "São Paulo",
         "9968485"
        ],
        [
         "3",
         "1890",
         "Shanghai",
         "CHN",
         "Shanghai",
         "9696300"
        ],
        [
         "4",
         "939",
         "Jakarta",
         "IDN",
         "Jakarta Raya",
         "9604900"
        ],
        [
         "5",
         "2822",
         "Karachi",
         "PAK",
         "Sindh",
         "9269265"
        ],
        [
         "6",
         "3357",
         "Istanbul",
         "TUR",
         "Istanbul",
         "8787958"
        ],
        [
         "7",
         "2515",
         "Ciudad de México",
         "MEX",
         "Distrito Federal",
         "8591309"
        ],
        [
         "8",
         "3580",
         "Moscow",
         "RUS",
         "Moscow (City)",
         "8389200"
        ],
        [
         "9",
         "3793",
         "New York",
         "USA",
         "New York",
         "8008278"
        ]
       ],
       "shape": {
        "columns": 5,
        "rows": 10
       }
      },
      "text/html": [
       "<div>\n",
       "<style scoped>\n",
       "    .dataframe tbody tr th:only-of-type {\n",
       "        vertical-align: middle;\n",
       "    }\n",
       "\n",
       "    .dataframe tbody tr th {\n",
       "        vertical-align: top;\n",
       "    }\n",
       "\n",
       "    .dataframe thead th {\n",
       "        text-align: right;\n",
       "    }\n",
       "</style>\n",
       "<table border=\"1\" class=\"dataframe\">\n",
       "  <thead>\n",
       "    <tr style=\"text-align: right;\">\n",
       "      <th></th>\n",
       "      <th>ID</th>\n",
       "      <th>Name</th>\n",
       "      <th>CountryCode</th>\n",
       "      <th>District</th>\n",
       "      <th>Population</th>\n",
       "    </tr>\n",
       "  </thead>\n",
       "  <tbody>\n",
       "    <tr>\n",
       "      <th>0</th>\n",
       "      <td>1024</td>\n",
       "      <td>Mumbai (Bombay)</td>\n",
       "      <td>IND</td>\n",
       "      <td>Maharashtra</td>\n",
       "      <td>10500000</td>\n",
       "    </tr>\n",
       "    <tr>\n",
       "      <th>1</th>\n",
       "      <td>2331</td>\n",
       "      <td>Seoul</td>\n",
       "      <td>KOR</td>\n",
       "      <td>Seoul</td>\n",
       "      <td>9981619</td>\n",
       "    </tr>\n",
       "    <tr>\n",
       "      <th>2</th>\n",
       "      <td>206</td>\n",
       "      <td>São Paulo</td>\n",
       "      <td>BRA</td>\n",
       "      <td>São Paulo</td>\n",
       "      <td>9968485</td>\n",
       "    </tr>\n",
       "    <tr>\n",
       "      <th>3</th>\n",
       "      <td>1890</td>\n",
       "      <td>Shanghai</td>\n",
       "      <td>CHN</td>\n",
       "      <td>Shanghai</td>\n",
       "      <td>9696300</td>\n",
       "    </tr>\n",
       "    <tr>\n",
       "      <th>4</th>\n",
       "      <td>939</td>\n",
       "      <td>Jakarta</td>\n",
       "      <td>IDN</td>\n",
       "      <td>Jakarta Raya</td>\n",
       "      <td>9604900</td>\n",
       "    </tr>\n",
       "    <tr>\n",
       "      <th>5</th>\n",
       "      <td>2822</td>\n",
       "      <td>Karachi</td>\n",
       "      <td>PAK</td>\n",
       "      <td>Sindh</td>\n",
       "      <td>9269265</td>\n",
       "    </tr>\n",
       "    <tr>\n",
       "      <th>6</th>\n",
       "      <td>3357</td>\n",
       "      <td>Istanbul</td>\n",
       "      <td>TUR</td>\n",
       "      <td>Istanbul</td>\n",
       "      <td>8787958</td>\n",
       "    </tr>\n",
       "    <tr>\n",
       "      <th>7</th>\n",
       "      <td>2515</td>\n",
       "      <td>Ciudad de México</td>\n",
       "      <td>MEX</td>\n",
       "      <td>Distrito Federal</td>\n",
       "      <td>8591309</td>\n",
       "    </tr>\n",
       "    <tr>\n",
       "      <th>8</th>\n",
       "      <td>3580</td>\n",
       "      <td>Moscow</td>\n",
       "      <td>RUS</td>\n",
       "      <td>Moscow (City)</td>\n",
       "      <td>8389200</td>\n",
       "    </tr>\n",
       "    <tr>\n",
       "      <th>9</th>\n",
       "      <td>3793</td>\n",
       "      <td>New York</td>\n",
       "      <td>USA</td>\n",
       "      <td>New York</td>\n",
       "      <td>8008278</td>\n",
       "    </tr>\n",
       "  </tbody>\n",
       "</table>\n",
       "</div>"
      ],
      "text/plain": [
       "     ID              Name CountryCode          District  Population\n",
       "0  1024   Mumbai (Bombay)         IND       Maharashtra    10500000\n",
       "1  2331             Seoul         KOR             Seoul     9981619\n",
       "2   206         São Paulo         BRA         São Paulo     9968485\n",
       "3  1890          Shanghai         CHN          Shanghai     9696300\n",
       "4   939           Jakarta         IDN      Jakarta Raya     9604900\n",
       "5  2822           Karachi         PAK             Sindh     9269265\n",
       "6  3357          Istanbul         TUR          Istanbul     8787958\n",
       "7  2515  Ciudad de México         MEX  Distrito Federal     8591309\n",
       "8  3580            Moscow         RUS     Moscow (City)     8389200\n",
       "9  3793          New York         USA          New York     8008278"
      ]
     },
     "execution_count": 26,
     "metadata": {},
     "output_type": "execute_result"
    }
   ],
   "source": [
    "query = \"\"\"SELECT * FROM city ORDER BY Population DESC LIMIT 10\"\"\"\n",
    "\n",
    "df = pd.read_sql(query, conn)\n",
    "df"
   ]
  },
  {
   "cell_type": "markdown",
   "id": "d516c2cd",
   "metadata": {},
   "source": [
    "Which continent has the highest average life expectancy?"
   ]
  },
  {
   "cell_type": "code",
   "execution_count": 27,
   "id": "dfe249f2",
   "metadata": {},
   "outputs": [
    {
     "data": {
      "application/vnd.microsoft.datawrangler.viewer.v0+json": {
       "columns": [
        {
         "name": "index",
         "rawType": "int64",
         "type": "integer"
        },
        {
         "name": "Continent",
         "rawType": "object",
         "type": "string"
        },
        {
         "name": "AvgLifeExpectancy",
         "rawType": "float64",
         "type": "float"
        }
       ],
       "ref": "9d207e8e-5e1c-4ca6-876d-d2e6bbe46ed4",
       "rows": [
        [
         "0",
         "Europe",
         "75.14773"
        ],
        [
         "1",
         "North America",
         "72.99189"
        ],
        [
         "2",
         "South America",
         "70.94615"
        ],
        [
         "3",
         "Oceania",
         "69.715"
        ],
        [
         "4",
         "Asia",
         "67.44118"
        ],
        [
         "5",
         "Africa",
         "52.57193"
        ],
        [
         "6",
         "Antarctica",
         null
        ]
       ],
       "shape": {
        "columns": 2,
        "rows": 7
       }
      },
      "text/html": [
       "<div>\n",
       "<style scoped>\n",
       "    .dataframe tbody tr th:only-of-type {\n",
       "        vertical-align: middle;\n",
       "    }\n",
       "\n",
       "    .dataframe tbody tr th {\n",
       "        vertical-align: top;\n",
       "    }\n",
       "\n",
       "    .dataframe thead th {\n",
       "        text-align: right;\n",
       "    }\n",
       "</style>\n",
       "<table border=\"1\" class=\"dataframe\">\n",
       "  <thead>\n",
       "    <tr style=\"text-align: right;\">\n",
       "      <th></th>\n",
       "      <th>Continent</th>\n",
       "      <th>AvgLifeExpectancy</th>\n",
       "    </tr>\n",
       "  </thead>\n",
       "  <tbody>\n",
       "    <tr>\n",
       "      <th>0</th>\n",
       "      <td>Europe</td>\n",
       "      <td>75.14773</td>\n",
       "    </tr>\n",
       "    <tr>\n",
       "      <th>1</th>\n",
       "      <td>North America</td>\n",
       "      <td>72.99189</td>\n",
       "    </tr>\n",
       "    <tr>\n",
       "      <th>2</th>\n",
       "      <td>South America</td>\n",
       "      <td>70.94615</td>\n",
       "    </tr>\n",
       "    <tr>\n",
       "      <th>3</th>\n",
       "      <td>Oceania</td>\n",
       "      <td>69.71500</td>\n",
       "    </tr>\n",
       "    <tr>\n",
       "      <th>4</th>\n",
       "      <td>Asia</td>\n",
       "      <td>67.44118</td>\n",
       "    </tr>\n",
       "    <tr>\n",
       "      <th>5</th>\n",
       "      <td>Africa</td>\n",
       "      <td>52.57193</td>\n",
       "    </tr>\n",
       "    <tr>\n",
       "      <th>6</th>\n",
       "      <td>Antarctica</td>\n",
       "      <td>NaN</td>\n",
       "    </tr>\n",
       "  </tbody>\n",
       "</table>\n",
       "</div>"
      ],
      "text/plain": [
       "       Continent  AvgLifeExpectancy\n",
       "0         Europe           75.14773\n",
       "1  North America           72.99189\n",
       "2  South America           70.94615\n",
       "3        Oceania           69.71500\n",
       "4           Asia           67.44118\n",
       "5         Africa           52.57193\n",
       "6     Antarctica                NaN"
      ]
     },
     "execution_count": 27,
     "metadata": {},
     "output_type": "execute_result"
    }
   ],
   "source": [
    "query = \"\"\"SELECT Continent, AVG(LifeExpectancy) AS AvgLifeExpectancy FROM country GROUP BY Continent ORDER BY AvgLifeExpectancy DESC\"\"\"\n",
    "df = pd.read_sql(query, conn)\n",
    "df"
   ]
  },
  {
   "cell_type": "markdown",
   "id": "e2d122bf",
   "metadata": {},
   "source": [
    "Which 5 countries have the lowest GNP per capita?"
   ]
  },
  {
   "cell_type": "code",
   "execution_count": 30,
   "id": "9373a003",
   "metadata": {},
   "outputs": [
    {
     "data": {
      "application/vnd.microsoft.datawrangler.viewer.v0+json": {
       "columns": [
        {
         "name": "index",
         "rawType": "int64",
         "type": "integer"
        },
        {
         "name": "Name",
         "rawType": "object",
         "type": "string"
        },
        {
         "name": "GNP",
         "rawType": "float64",
         "type": "float"
        },
        {
         "name": "Population",
         "rawType": "int64",
         "type": "integer"
        },
        {
         "name": "GNPPerCapita",
         "rawType": "float64",
         "type": "float"
        }
       ],
       "ref": "764f7234-8838-4e90-a25f-0b6bdd329add",
       "rows": [
        [
         "0",
         "Faroe Islands",
         "0.0",
         "43000",
         "0.0"
        ],
        [
         "1",
         "Greenland",
         "0.0",
         "56000",
         "0.0"
        ],
        [
         "2",
         "Christmas Island",
         "0.0",
         "2500",
         "0.0"
        ],
        [
         "3",
         "Falkland Islands",
         "0.0",
         "2000",
         "0.0"
        ],
        [
         "4",
         "Cocos (Keeling) Islands",
         "0.0",
         "600",
         "0.0"
        ]
       ],
       "shape": {
        "columns": 4,
        "rows": 5
       }
      },
      "text/html": [
       "<div>\n",
       "<style scoped>\n",
       "    .dataframe tbody tr th:only-of-type {\n",
       "        vertical-align: middle;\n",
       "    }\n",
       "\n",
       "    .dataframe tbody tr th {\n",
       "        vertical-align: top;\n",
       "    }\n",
       "\n",
       "    .dataframe thead th {\n",
       "        text-align: right;\n",
       "    }\n",
       "</style>\n",
       "<table border=\"1\" class=\"dataframe\">\n",
       "  <thead>\n",
       "    <tr style=\"text-align: right;\">\n",
       "      <th></th>\n",
       "      <th>Name</th>\n",
       "      <th>GNP</th>\n",
       "      <th>Population</th>\n",
       "      <th>GNPPerCapita</th>\n",
       "    </tr>\n",
       "  </thead>\n",
       "  <tbody>\n",
       "    <tr>\n",
       "      <th>0</th>\n",
       "      <td>Faroe Islands</td>\n",
       "      <td>0.0</td>\n",
       "      <td>43000</td>\n",
       "      <td>0.0</td>\n",
       "    </tr>\n",
       "    <tr>\n",
       "      <th>1</th>\n",
       "      <td>Greenland</td>\n",
       "      <td>0.0</td>\n",
       "      <td>56000</td>\n",
       "      <td>0.0</td>\n",
       "    </tr>\n",
       "    <tr>\n",
       "      <th>2</th>\n",
       "      <td>Christmas Island</td>\n",
       "      <td>0.0</td>\n",
       "      <td>2500</td>\n",
       "      <td>0.0</td>\n",
       "    </tr>\n",
       "    <tr>\n",
       "      <th>3</th>\n",
       "      <td>Falkland Islands</td>\n",
       "      <td>0.0</td>\n",
       "      <td>2000</td>\n",
       "      <td>0.0</td>\n",
       "    </tr>\n",
       "    <tr>\n",
       "      <th>4</th>\n",
       "      <td>Cocos (Keeling) Islands</td>\n",
       "      <td>0.0</td>\n",
       "      <td>600</td>\n",
       "      <td>0.0</td>\n",
       "    </tr>\n",
       "  </tbody>\n",
       "</table>\n",
       "</div>"
      ],
      "text/plain": [
       "                      Name  GNP  Population  GNPPerCapita\n",
       "0            Faroe Islands  0.0       43000           0.0\n",
       "1                Greenland  0.0       56000           0.0\n",
       "2         Christmas Island  0.0        2500           0.0\n",
       "3         Falkland Islands  0.0        2000           0.0\n",
       "4  Cocos (Keeling) Islands  0.0         600           0.0"
      ]
     },
     "execution_count": 30,
     "metadata": {},
     "output_type": "execute_result"
    }
   ],
   "source": [
    "query = \"\"\"SELECT Name, GNP,Population, (GNP/Population) AS GNPPerCapita FROM country WHERE Population > 0 ORDER BY GNPPerCapita ASC LIMIT 5; \"\"\"\n",
    "df = pd.read_sql(query, conn)\n",
    "df"
   ]
  },
  {
   "cell_type": "markdown",
   "id": "03086299",
   "metadata": {},
   "source": [
    "Show the distribution of population across all countries (histogram)."
   ]
  },
  {
   "cell_type": "code",
   "execution_count": 31,
   "id": "b0eb8466",
   "metadata": {},
   "outputs": [
    {
     "data": {
      "image/png": "[encoded data removed]",
      "text/plain": [
       "<Figure size 1000x600 with 1 Axes>"
      ]
     },
     "metadata": {},
     "output_type": "display_data"
    }
   ],
   "source": [
    "\n",
    "query = \"SELECT Name, Population FROM country;\"\n",
    "df = pd.read_sql(query, conn)\n",
    "\n",
    "# Plot\n",
    "plt.figure(figsize=(10,6))\n",
    "sns.histplot(df['Population'], bins=50, kde=True, color=\"skyblue\")\n",
    "plt.title(\"Distribution of Population Across Countries\")\n",
    "plt.xlabel(\"Population\")\n",
    "plt.ylabel(\"Number of Countries\")\n",
    "plt.show()\n"
   ]
  },
  {
   "cell_type": "markdown",
   "id": "2ce79715",
   "metadata": {},
   "source": [
    "Show the distribution of life expectancy across all countries (histogram)."
   ]
  },
  {
   "cell_type": "code",
   "execution_count": 32,
   "id": "1a253318",
   "metadata": {},
   "outputs": [
    {
     "data": {
      "image/png": "[encoded data removed]",
      "text/plain": [
       "<Figure size 1000x600 with 1 Axes>"
      ]
     },
     "metadata": {},
     "output_type": "display_data"
    }
   ],
   "source": [
    "\n",
    "query = \"SELECT Name, LifeExpectancy FROM country;\"\n",
    "df = pd.read_sql(query, conn)\n",
    "\n",
    "# Plot\n",
    "plt.figure(figsize=(10,6))\n",
    "sns.histplot(df['LifeExpectancy'], bins=50, kde=True, color=\"skyblue\")\n",
    "plt.title(\"Distribution of LifeExpectancy Across Countries\")\n",
    "plt.xlabel(\"LifeExpectancy\")\n",
    "plt.ylabel(\"Number of Countries\")\n",
    "plt.show()\n"
   ]
  },
  {
   "cell_type": "markdown",
   "id": "2839ad17",
   "metadata": {},
   "source": [
    "How many cities are there in each country?"
   ]
  },
  {
   "cell_type": "code",
   "execution_count": 34,
   "id": "4667243e",
   "metadata": {},
   "outputs": [
    {
     "data": {
      "application/vnd.microsoft.datawrangler.viewer.v0+json": {
       "columns": [
        {
         "name": "index",
         "rawType": "int64",
         "type": "integer"
        },
        {
         "name": "Name",
         "rawType": "object",
         "type": "string"
        },
        {
         "name": "TotalCities",
         "rawType": "int64",
         "type": "integer"
        }
       ],
       "ref": "eeac4328-b599-4b3a-9735-2026be350311",
       "rows": [
        [
         "0",
         "China",
         "363"
        ],
        [
         "1",
         "India",
         "341"
        ],
        [
         "2",
         "United States",
         "274"
        ],
        [
         "3",
         "Brazil",
         "250"
        ],
        [
         "4",
         "Japan",
         "248"
        ],
        [
         "5",
         "Russian Federation",
         "189"
        ],
        [
         "6",
         "Mexico",
         "173"
        ],
        [
         "7",
         "Philippines",
         "136"
        ],
        [
         "8",
         "Germany",
         "93"
        ],
        [
         "9",
         "Indonesia",
         "85"
        ],
        [
         "10",
         "United Kingdom",
         "81"
        ],
        [
         "11",
         "South Korea",
         "70"
        ],
        [
         "12",
         "Iran",
         "67"
        ],
        [
         "13",
         "Nigeria",
         "64"
        ],
        [
         "14",
         "Turkey",
         "62"
        ],
        [
         "15",
         "Spain",
         "59"
        ],
        [
         "16",
         "Pakistan",
         "59"
        ],
        [
         "17",
         "Italy",
         "58"
        ],
        [
         "18",
         "Argentina",
         "57"
        ],
        [
         "19",
         "Ukraine",
         "57"
        ],
        [
         "20",
         "Canada",
         "49"
        ],
        [
         "21",
         "Poland",
         "44"
        ],
        [
         "22",
         "South Africa",
         "44"
        ],
        [
         "23",
         "Taiwan",
         "42"
        ],
        [
         "24",
         "Venezuela",
         "41"
        ],
        [
         "25",
         "France",
         "40"
        ],
        [
         "26",
         "Colombia",
         "38"
        ],
        [
         "27",
         "Egypt",
         "37"
        ],
        [
         "28",
         "Chile",
         "29"
        ],
        [
         "29",
         "Romania",
         "29"
        ],
        [
         "30",
         "Netherlands",
         "28"
        ],
        [
         "31",
         "Bangladesh",
         "24"
        ],
        [
         "32",
         "Saudi Arabia",
         "24"
        ],
        [
         "33",
         "Morocco",
         "22"
        ],
        [
         "34",
         "Peru",
         "22"
        ],
        [
         "35",
         "Vietnam",
         "22"
        ],
        [
         "36",
         "Kazakstan",
         "21"
        ],
        [
         "37",
         "Congo, The Democratic Republic of the",
         "18"
        ],
        [
         "38",
         "Algeria",
         "18"
        ],
        [
         "39",
         "Malaysia",
         "18"
        ],
        [
         "40",
         "Uzbekistan",
         "17"
        ],
        [
         "41",
         "Belarus",
         "16"
        ],
        [
         "42",
         "Myanmar",
         "16"
        ],
        [
         "43",
         "Ecuador",
         "15"
        ],
        [
         "44",
         "Iraq",
         "15"
        ],
        [
         "45",
         "Sweden",
         "15"
        ],
        [
         "46",
         "Australia",
         "14"
        ],
        [
         "47",
         "Cuba",
         "14"
        ],
        [
         "48",
         "Israel",
         "14"
        ],
        [
         "49",
         "North Korea",
         "13"
        ]
       ],
       "shape": {
        "columns": 2,
        "rows": 239
       }
      },
      "text/html": [
       "<div>\n",
       "<style scoped>\n",
       "    .dataframe tbody tr th:only-of-type {\n",
       "        vertical-align: middle;\n",
       "    }\n",
       "\n",
       "    .dataframe tbody tr th {\n",
       "        vertical-align: top;\n",
       "    }\n",
       "\n",
       "    .dataframe thead th {\n",
       "        text-align: right;\n",
       "    }\n",
       "</style>\n",
       "<table border=\"1\" class=\"dataframe\">\n",
       "  <thead>\n",
       "    <tr style=\"text-align: right;\">\n",
       "      <th></th>\n",
       "      <th>Name</th>\n",
       "      <th>TotalCities</th>\n",
       "    </tr>\n",
       "  </thead>\n",
       "  <tbody>\n",
       "    <tr>\n",
       "      <th>0</th>\n",
       "      <td>China</td>\n",
       "      <td>363</td>\n",
       "    </tr>\n",
       "    <tr>\n",
       "      <th>1</th>\n",
       "      <td>India</td>\n",
       "      <td>341</td>\n",
       "    </tr>\n",
       "    <tr>\n",
       "      <th>2</th>\n",
       "      <td>United States</td>\n",
       "      <td>274</td>\n",
       "    </tr>\n",
       "    <tr>\n",
       "      <th>3</th>\n",
       "      <td>Brazil</td>\n",
       "      <td>250</td>\n",
       "    </tr>\n",
       "    <tr>\n",
       "      <th>4</th>\n",
       "      <td>Japan</td>\n",
       "      <td>248</td>\n",
       "    </tr>\n",
       "    <tr>\n",
       "      <th>...</th>\n",
       "      <td>...</td>\n",
       "      <td>...</td>\n",
       "    </tr>\n",
       "    <tr>\n",
       "      <th>234</th>\n",
       "      <td>Bouvet Island</td>\n",
       "      <td>0</td>\n",
       "    </tr>\n",
       "    <tr>\n",
       "      <th>235</th>\n",
       "      <td>Heard Island and McDonald Islands</td>\n",
       "      <td>0</td>\n",
       "    </tr>\n",
       "    <tr>\n",
       "      <th>236</th>\n",
       "      <td>British Indian Ocean Territory</td>\n",
       "      <td>0</td>\n",
       "    </tr>\n",
       "    <tr>\n",
       "      <th>237</th>\n",
       "      <td>South Georgia and the South Sandwich Islands</td>\n",
       "      <td>0</td>\n",
       "    </tr>\n",
       "    <tr>\n",
       "      <th>238</th>\n",
       "      <td>United States Minor Outlying Islands</td>\n",
       "      <td>0</td>\n",
       "    </tr>\n",
       "  </tbody>\n",
       "</table>\n",
       "<p>239 rows × 2 columns</p>\n",
       "</div>"
      ],
      "text/plain": [
       "                                             Name  TotalCities\n",
       "0                                           China          363\n",
       "1                                           India          341\n",
       "2                                   United States          274\n",
       "3                                          Brazil          250\n",
       "4                                           Japan          248\n",
       "..                                            ...          ...\n",
       "234                                 Bouvet Island            0\n",
       "235             Heard Island and McDonald Islands            0\n",
       "236                British Indian Ocean Territory            0\n",
       "237  South Georgia and the South Sandwich Islands            0\n",
       "238          United States Minor Outlying Islands            0\n",
       "\n",
       "[239 rows x 2 columns]"
      ]
     },
     "execution_count": 34,
     "metadata": {},
     "output_type": "execute_result"
    }
   ],
   "source": [
    "query = \"\"\"SELECT country.Name, COUNT(city.Name) AS TotalCities FROM country LEFT JOIN city ON country.Code = city.CountryCode GROUP BY country.Name ORDER BY TotalCities DESC\"\"\"\n",
    "df = pd.read_sql(query, conn)\n",
    "df"
   ]
  },
  {
   "cell_type": "markdown",
   "id": "8abe771d",
   "metadata": {},
   "source": [
    "Compare the average GNP of Asian vs European countries."
   ]
  },
  {
   "cell_type": "code",
   "execution_count": null,
   "id": "a0c543d1",
   "metadata": {},
   "outputs": [
    {
     "data": {
      "image/png": "[encoded data removed]",
      "text/plain": [
       "<Figure size 600x500 with 1 Axes>"
      ]
     },
     "metadata": {},
     "output_type": "display_data"
    }
   ],
   "source": [
    "query = \"\"\"\n",
    "SELECT Continent, AVG(GNP) AS AvgGNP\n",
    "FROM country\n",
    "WHERE Continent IN ('Asia', 'Europe')\n",
    "GROUP BY Continent;\n",
    "\"\"\"\n",
    "\n",
    "df = pd.read_sql(query, conn)\n",
    "\n",
    "plt.figure(figsize=(6,5))\n",
    "sns.barplot(data=df, x=\"Continent\", y=\"AvgGNP\", palette=\"Set2\")\n",
    "plt.title(\"Average GNP of Asian vs European Countries\")\n",
    "plt.ylabel(\"Average GNP\")\n",
    "plt.xlabel(\"Continent\")\n",
    "plt.show()\n"
   ]
  },
  {
   "cell_type": "markdown",
   "id": "c0c1ad2b",
   "metadata": {},
   "source": [
    "Which continent has the highest average life expectancy, and how does it compare to others?"
   ]
  },
  {
   "cell_type": "code",
   "execution_count": 9,
   "id": "97c6071d",
   "metadata": {},
   "outputs": [
    {
     "data": {
      "text/plain": [
       "<Axes: xlabel='AvgLifeExpectancy', ylabel='Continent'>"
      ]
     },
     "execution_count": 9,
     "metadata": {},
     "output_type": "execute_result"
    },
    {
     "data": {
      "image/png": "[encoded data removed]",
      "text/plain": [
       "<Figure size 640x480 with 1 Axes>"
      ]
     },
     "metadata": {},
     "output_type": "display_data"
    }
   ],
   "source": [
    "query = \"\"\"SELECT Continent, AVG(LifeExpectancy) AS AvgLifeExpectancy FROM country GROUP BY Continent ORDER BY AvgLifeExpectancy DESC\"\"\"\n",
    "df = pd.read_sql(query, conn)\n",
    "\n",
    "sns.barplot(y='Continent', x='AvgLifeExpectancy', data=df, palette='mako')"
   ]
  },
  {
   "cell_type": "code",
   "execution_count": 18,
   "id": "4eb8a741",
   "metadata": {},
   "outputs": [
    {
     "data": {
      "image/png": "[encoded data removed]",
      "text/plain": [
       "<Figure size 500x500 with 1 Axes>"
      ]
     },
     "metadata": {},
     "output_type": "display_data"
    }
   ],
   "source": [
    "query = \"\"\"\n",
    "SELECT Continent,\n",
    "       SUM(Population) AS TotalPopulation,\n",
    "       (SUM(Population) * 100.0 / (SELECT SUM(Population) FROM country)) AS ContinentPercentage\n",
    "FROM country\n",
    "GROUP BY Continent\n",
    "ORDER BY ContinentPercentage DESC;\n",
    "\"\"\"\n",
    "df = pd.read_sql(query, conn)\n",
    "df\n",
    "\n",
    "# Pie chart\n",
    "plt.figure(figsize=(5,5))\n",
    "plt.pie(df['TotalPopulation'], labels=df['Continent'], autopct='%1.1f%%', startangle=140)\n",
    "plt.title(\"World Population Distribution by Continent\")\n",
    "plt.show()"
   ]
  },
  {
   "cell_type": "markdown",
   "id": "7bef989f",
   "metadata": {},
   "source": [
    "Among countries with population > 50 million, which have the lowest life expectancy?"
   ]
  },
  {
   "cell_type": "code",
   "execution_count": 7,
   "id": "77be9d96",
   "metadata": {},
   "outputs": [
    {
     "data": {
      "image/png": "[encoded data removed]",
      "text/plain": [
       "<Figure size 640x480 with 1 Axes>"
      ]
     },
     "metadata": {},
     "output_type": "display_data"
    }
   ],
   "source": [
    "query = \"\"\"SELECT Name, Population, Continent, LifeExpectancy FROM country WHERE population > 5000000 ORDER BY LifeExpectancy ASC LIMIT 10\"\"\"\n",
    "\n",
    "df = pd.read_sql(query, conn)\n",
    "\n",
    "\n",
    "sns.barplot(y='Name', x='LifeExpectancy',data=df, palette='coolwarm')\n",
    "plt.show()"
   ]
  },
  {
   "cell_type": "markdown",
   "id": "55589dae",
   "metadata": {},
   "source": [
    "Compare the total number of official languages spoken across continents"
   ]
  },
  {
   "cell_type": "code",
   "execution_count": 15,
   "id": "a0833562",
   "metadata": {},
   "outputs": [
    {
     "data": {
      "image/png": "[encoded data removed]",
      "text/plain": [
       "<Figure size 640x480 with 1 Axes>"
      ]
     },
     "metadata": {},
     "output_type": "display_data"
    }
   ],
   "source": [
    "query = \"\"\"\n",
    "SELECT c.Continent,\n",
    "       COUNT(DISTINCT cl.Language) AS TotalLanguages,\n",
    "       SUM(CASE WHEN cl.IsOfficial = 'T' THEN 1 ELSE 0 END) AS OfficialLanguages\n",
    "FROM country AS c\n",
    "INNER JOIN countrylanguage AS cl ON c.Code = cl.CountryCode\n",
    "GROUP BY c.Continent\n",
    "ORDER BY OfficialLanguages DESC;\n",
    "\"\"\"\n",
    "df = pd.read_sql(query, conn)\n",
    "\n",
    "sns.barplot(data=df, x='Continent', y='OfficialLanguages', palette='viridis')\n",
    "plt.title('Number of Official Languages by Continent')\n",
    "plt.xlabel('Continent')\n",
    "plt.ylabel('Official Languages')\n",
    "plt.xticks(rotation=90)\n",
    "plt.show()\n"
   ]
  },
  {
   "cell_type": "markdown",
   "id": "f1979328",
   "metadata": {},
   "source": [
    "Find the correlation between surface area and population density."
   ]
  },
  {
   "cell_type": "code",
   "execution_count": 22,
   "id": "abad30ee",
   "metadata": {},
   "outputs": [
    {
     "data": {
      "image/png": "[encoded data removed]",
      "text/plain": [
       "<Figure size 640x480 with 1 Axes>"
      ]
     },
     "metadata": {},
     "output_type": "display_data"
    }
   ],
   "source": [
    "query = \"\"\"SELECT Name, Population, SurfaceArea, Continent, (Population/SurfaceArea) AS PopulationDensity FROM country WHERE Population > 0 AND SurfaceArea >0  \"\"\"\n",
    "df = pd.read_sql(query, conn)\n",
    "\n",
    "sns.regplot(\n",
    "    data=df,\n",
    "    x='SurfaceArea',\n",
    "    y='PopulationDensity',\n",
    "    scatter_kws={'alpha':0.6},\n",
    "    line_kws={'color':'red'},\n",
    "    logx=True \n",
    ")\n",
    "plt.xscale('log')  \n",
    "plt.yscale('log') \n",
    "plt.title('Correlation between Surface Area and Population Density')\n",
    "plt.xlabel('Surface Area (log scale)')\n",
    "plt.ylabel('Population Density (log scale)')\n",
    "plt.show()\n"
   ]
  },
  {
   "cell_type": "markdown",
   "id": "6746c268",
   "metadata": {},
   "source": [
    "Show the distribution of city populations within a single country"
   ]
  },
  {
   "cell_type": "code",
   "execution_count": 7,
   "id": "50352cf2",
   "metadata": {},
   "outputs": [
    {
     "data": {
      "image/png": "[encoded data removed]",
      "text/plain": [
       "<Figure size 640x480 with 1 Axes>"
      ]
     },
     "metadata": {},
     "output_type": "display_data"
    }
   ],
   "source": [
    "query = \"\"\"SELECT city.Name, city.Population FROM city INNER JOIN country ON country.Code = city.CountryCode WHERE country.Name = 'India'\"\"\"\n",
    "\n",
    "df = pd.read_sql(query, conn)\n",
    "sns.histplot(df['Population'], bins=400, kde=True, color='skyblue')\n",
    "plt.title('Distribution of City Populations in India')\n",
    "plt.xlabel('City Population')\n",
    "plt.ylabel('Number of Cities')\n",
    "plt.xscale('log') \n",
    "plt.show()"
   ]
  },
  {
   "cell_type": "code",
   "execution_count": 14,
   "id": "e9bcb08e",
   "metadata": {},
   "outputs": [
    {
     "data": {
      "image/png": "[encoded data removed]",
      "text/plain": [
       "<Figure size 1000x600 with 1 Axes>"
      ]
     },
     "metadata": {},
     "output_type": "display_data"
    }
   ],
   "source": [
    "query = \"\"\"\n",
    "SELECT country.Name AS Country, COUNT(city.ID) AS NumLargeCities\n",
    "FROM city\n",
    "JOIN country ON city.CountryCode = country.Code\n",
    "WHERE city.Population > 1000000\n",
    "GROUP BY country.Name\n",
    "ORDER BY NumLargeCities DESC\n",
    "LIMIT 10;\n",
    "\"\"\"\n",
    "df = pd.read_sql(query, conn)\n",
    "plt.figure(figsize=(10,6))\n",
    "sns.barplot(data=df, x='NumLargeCities', y='Country', palette='viridis')\n",
    "plt.title('Top 10 Countries with Most Cities over 1 Million Population')\n",
    "plt.xlabel('Number of Cities (>1M)')\n",
    "plt.ylabel('Country')\n",
    "plt.show()"
   ]
  },
  {
   "cell_type": "markdown",
   "id": "ce2517f9",
   "metadata": {},
   "source": []
  }
 ],
 "metadata": {
  "kernelspec": {
   "display_name": "venv",
   "language": "python",
   "name": "python3"
  },
  "language_info": {
   "codemirror_mode": {
    "name": "ipython",
    "version": 3
   },
   "file_extension": ".py",
   "mimetype": "text/x-python",
   "name": "python",
   "nbconvert_exporter": "python",
   "pygments_lexer": "ipython3",
   "version": "3.13.1"
  }
 },
 "nbformat": 4,
 "nbformat_minor": 5
}
