{
 "cells": [
  {
   "cell_type": "code",
   "execution_count": 1,
   "id": "3f5d2f62",
   "metadata": {},
   "outputs": [],
   "source": [
    "import pandas as pd\n",
    "import matplotlib.pyplot as plt\n",
    "import seaborn as sns\n",
    "import mysql.connector as connector\n",
    "import warnings\n",
    "warnings.filterwarnings(\"ignore\")\n"
   ]
  },
  {
   "cell_type": "code",
   "execution_count": 2,
   "id": "373d8240",
   "metadata": {},
   "outputs": [],
   "source": [
    "conn = connector.connect(\n",
    "   host=\"localhost\",      # or \"127.0.0.1\"\n",
    "    user=\"root\",           # your MySQL username\n",
    "    password=\"1234\",\n",
    "    database=\"world\"\n",
    ")"
   ]
  },
  {
   "cell_type": "code",
   "execution_count": 3,
   "id": "121ab6ac",
   "metadata": {},
   "outputs": [
    {
     "data": {
      "application/vnd.microsoft.datawrangler.viewer.v0+json": {
       "columns": [
        {
         "name": "index",
         "rawType": "int64",
         "type": "integer"
        },
        {
         "name": "Tables_in_world",
         "rawType": "object",
         "type": "string"
        }
       ],
       "ref": "f6d1b507-e710-4f1b-a40c-fa4957f7d937",
       "rows": [
        [
         "0",
         "city"
        ],
        [
         "1",
         "country"
        ],
        [
         "2",
         "countrylanguage"
        ]
       ],
       "shape": {
        "columns": 1,
        "rows": 3
       }
      },
      "text/html": [
       "<div>\n",
       "<style scoped>\n",
       "    .dataframe tbody tr th:only-of-type {\n",
       "        vertical-align: middle;\n",
       "    }\n",
       "\n",
       "    .dataframe tbody tr th {\n",
       "        vertical-align: top;\n",
       "    }\n",
       "\n",
       "    .dataframe thead th {\n",
       "        text-align: right;\n",
       "    }\n",
       "</style>\n",
       "<table border=\"1\" class=\"dataframe\">\n",
       "  <thead>\n",
       "    <tr style=\"text-align: right;\">\n",
       "      <th></th>\n",
       "      <th>Tables_in_world</th>\n",
       "    </tr>\n",
       "  </thead>\n",
       "  <tbody>\n",
       "    <tr>\n",
       "      <th>0</th>\n",
       "      <td>city</td>\n",
       "    </tr>\n",
       "    <tr>\n",
       "      <th>1</th>\n",
       "      <td>country</td>\n",
       "    </tr>\n",
       "    <tr>\n",
       "      <th>2</th>\n",
       "      <td>countrylanguage</td>\n",
       "    </tr>\n",
       "  </tbody>\n",
       "</table>\n",
       "</div>"
      ],
      "text/plain": [
       "   Tables_in_world\n",
       "0             city\n",
       "1          country\n",
       "2  countrylanguage"
      ]
     },
     "execution_count": 3,
     "metadata": {},
     "output_type": "execute_result"
    }
   ],
   "source": [
    "query = \"\"\"\n",
    "SHOW TABLES\n",
    "\"\"\"\n",
    "df = pd.read_sql(query, conn)\n",
    "df.head()"
   ]
  },
  {
   "cell_type": "markdown",
   "id": "94f46f82",
   "metadata": {},
   "source": [
    "How many columns there are in table?"
   ]
  },
  {
   "cell_type": "code",
   "execution_count": 4,
   "id": "c0da773c",
   "metadata": {},
   "outputs": [
    {
     "data": {
      "application/vnd.microsoft.datawrangler.viewer.v0+json": {
       "columns": [
        {
         "name": "index",
         "rawType": "int64",
         "type": "integer"
        },
        {
         "name": "Field",
         "rawType": "object",
         "type": "string"
        },
        {
         "name": "Type",
         "rawType": "object",
         "type": "string"
        },
        {
         "name": "Null",
         "rawType": "object",
         "type": "string"
        },
        {
         "name": "Key",
         "rawType": "object",
         "type": "string"
        },
        {
         "name": "Default",
         "rawType": "object",
         "type": "unknown"
        },
        {
         "name": "Extra",
         "rawType": "object",
         "type": "string"
        }
       ],
       "ref": "be299b5a-4cbc-4d6e-889f-1cf5e2948546",
       "rows": [
        [
         "0",
         "Code",
         "char(3)",
         "NO",
         "PRI",
         "",
         ""
        ],
        [
         "1",
         "Name",
         "char(52)",
         "NO",
         "",
         "",
         ""
        ],
        [
         "2",
         "Continent",
         "enum('Asia','Europe','North America','Africa','Oceania','Antarctica','South America')",
         "NO",
         "",
         "Asia",
         ""
        ],
        [
         "3",
         "Region",
         "char(26)",
         "NO",
         "",
         "",
         ""
        ],
        [
         "4",
         "SurfaceArea",
         "decimal(10,2)",
         "NO",
         "",
         "0.00",
         ""
        ],
        [
         "5",
         "IndepYear",
         "smallint",
         "YES",
         "",
         null,
         ""
        ],
        [
         "6",
         "Population",
         "int",
         "NO",
         "",
         "0",
         ""
        ],
        [
         "7",
         "LifeExpectancy",
         "decimal(3,1)",
         "YES",
         "",
         null,
         ""
        ],
        [
         "8",
         "GNP",
         "decimal(10,2)",
         "YES",
         "",
         null,
         ""
        ],
        [
         "9",
         "GNPOld",
         "decimal(10,2)",
         "YES",
         "",
         null,
         ""
        ],
        [
         "10",
         "LocalName",
         "char(45)",
         "NO",
         "",
         "",
         ""
        ],
        [
         "11",
         "GovernmentForm",
         "char(45)",
         "NO",
         "",
         "",
         ""
        ],
        [
         "12",
         "HeadOfState",
         "char(60)",
         "YES",
         "",
         null,
         ""
        ],
        [
         "13",
         "Capital",
         "int",
         "YES",
         "",
         null,
         ""
        ],
        [
         "14",
         "Code2",
         "char(2)",
         "NO",
         "",
         "",
         ""
        ]
       ],
       "shape": {
        "columns": 6,
        "rows": 15
       }
      },
      "text/html": [
       "<div>\n",
       "<style scoped>\n",
       "    .dataframe tbody tr th:only-of-type {\n",
       "        vertical-align: middle;\n",
       "    }\n",
       "\n",
       "    .dataframe tbody tr th {\n",
       "        vertical-align: top;\n",
       "    }\n",
       "\n",
       "    .dataframe thead th {\n",
       "        text-align: right;\n",
       "    }\n",
       "</style>\n",
       "<table border=\"1\" class=\"dataframe\">\n",
       "  <thead>\n",
       "    <tr style=\"text-align: right;\">\n",
       "      <th></th>\n",
       "      <th>Field</th>\n",
       "      <th>Type</th>\n",
       "      <th>Null</th>\n",
       "      <th>Key</th>\n",
       "      <th>Default</th>\n",
       "      <th>Extra</th>\n",
       "    </tr>\n",
       "  </thead>\n",
       "  <tbody>\n",
       "    <tr>\n",
       "      <th>0</th>\n",
       "      <td>Code</td>\n",
       "      <td>char(3)</td>\n",
       "      <td>NO</td>\n",
       "      <td>PRI</td>\n",
       "      <td></td>\n",
       "      <td></td>\n",
       "    </tr>\n",
       "    <tr>\n",
       "      <th>1</th>\n",
       "      <td>Name</td>\n",
       "      <td>char(52)</td>\n",
       "      <td>NO</td>\n",
       "      <td></td>\n",
       "      <td></td>\n",
       "      <td></td>\n",
       "    </tr>\n",
       "    <tr>\n",
       "      <th>2</th>\n",
       "      <td>Continent</td>\n",
       "      <td>enum('Asia','Europe','North America','Africa',...</td>\n",
       "      <td>NO</td>\n",
       "      <td></td>\n",
       "      <td>Asia</td>\n",
       "      <td></td>\n",
       "    </tr>\n",
       "    <tr>\n",
       "      <th>3</th>\n",
       "      <td>Region</td>\n",
       "      <td>char(26)</td>\n",
       "      <td>NO</td>\n",
       "      <td></td>\n",
       "      <td></td>\n",
       "      <td></td>\n",
       "    </tr>\n",
       "    <tr>\n",
       "      <th>4</th>\n",
       "      <td>SurfaceArea</td>\n",
       "      <td>decimal(10,2)</td>\n",
       "      <td>NO</td>\n",
       "      <td></td>\n",
       "      <td>0.00</td>\n",
       "      <td></td>\n",
       "    </tr>\n",
       "    <tr>\n",
       "      <th>5</th>\n",
       "      <td>IndepYear</td>\n",
       "      <td>smallint</td>\n",
       "      <td>YES</td>\n",
       "      <td></td>\n",
       "      <td>None</td>\n",
       "      <td></td>\n",
       "    </tr>\n",
       "    <tr>\n",
       "      <th>6</th>\n",
       "      <td>Population</td>\n",
       "      <td>int</td>\n",
       "      <td>NO</td>\n",
       "      <td></td>\n",
       "      <td>0</td>\n",
       "      <td></td>\n",
       "    </tr>\n",
       "    <tr>\n",
       "      <th>7</th>\n",
       "      <td>LifeExpectancy</td>\n",
       "      <td>decimal(3,1)</td>\n",
       "      <td>YES</td>\n",
       "      <td></td>\n",
       "      <td>None</td>\n",
       "      <td></td>\n",
       "    </tr>\n",
       "    <tr>\n",
       "      <th>8</th>\n",
       "      <td>GNP</td>\n",
       "      <td>decimal(10,2)</td>\n",
       "      <td>YES</td>\n",
       "      <td></td>\n",
       "      <td>None</td>\n",
       "      <td></td>\n",
       "    </tr>\n",
       "    <tr>\n",
       "      <th>9</th>\n",
       "      <td>GNPOld</td>\n",
       "      <td>decimal(10,2)</td>\n",
       "      <td>YES</td>\n",
       "      <td></td>\n",
       "      <td>None</td>\n",
       "      <td></td>\n",
       "    </tr>\n",
       "    <tr>\n",
       "      <th>10</th>\n",
       "      <td>LocalName</td>\n",
       "      <td>char(45)</td>\n",
       "      <td>NO</td>\n",
       "      <td></td>\n",
       "      <td></td>\n",
       "      <td></td>\n",
       "    </tr>\n",
       "    <tr>\n",
       "      <th>11</th>\n",
       "      <td>GovernmentForm</td>\n",
       "      <td>char(45)</td>\n",
       "      <td>NO</td>\n",
       "      <td></td>\n",
       "      <td></td>\n",
       "      <td></td>\n",
       "    </tr>\n",
       "    <tr>\n",
       "      <th>12</th>\n",
       "      <td>HeadOfState</td>\n",
       "      <td>char(60)</td>\n",
       "      <td>YES</td>\n",
       "      <td></td>\n",
       "      <td>None</td>\n",
       "      <td></td>\n",
       "    </tr>\n",
       "    <tr>\n",
       "      <th>13</th>\n",
       "      <td>Capital</td>\n",
       "      <td>int</td>\n",
       "      <td>YES</td>\n",
       "      <td></td>\n",
       "      <td>None</td>\n",
       "      <td></td>\n",
       "    </tr>\n",
       "    <tr>\n",
       "      <th>14</th>\n",
       "      <td>Code2</td>\n",
       "      <td>char(2)</td>\n",
       "      <td>NO</td>\n",
       "      <td></td>\n",
       "      <td></td>\n",
       "      <td></td>\n",
       "    </tr>\n",
       "  </tbody>\n",
       "</table>\n",
       "</div>"
      ],
      "text/plain": [
       "             Field                                               Type Null  \\\n",
       "0             Code                                            char(3)   NO   \n",
       "1             Name                                           char(52)   NO   \n",
       "2        Continent  enum('Asia','Europe','North America','Africa',...   NO   \n",
       "3           Region                                           char(26)   NO   \n",
       "4      SurfaceArea                                      decimal(10,2)   NO   \n",
       "5        IndepYear                                           smallint  YES   \n",
       "6       Population                                                int   NO   \n",
       "7   LifeExpectancy                                       decimal(3,1)  YES   \n",
       "8              GNP                                      decimal(10,2)  YES   \n",
       "9           GNPOld                                      decimal(10,2)  YES   \n",
       "10       LocalName                                           char(45)   NO   \n",
       "11  GovernmentForm                                           char(45)   NO   \n",
       "12     HeadOfState                                           char(60)  YES   \n",
       "13         Capital                                                int  YES   \n",
       "14           Code2                                            char(2)   NO   \n",
       "\n",
       "    Key Default Extra  \n",
       "0   PRI                \n",
       "1                      \n",
       "2          Asia        \n",
       "3                      \n",
       "4          0.00        \n",
       "5          None        \n",
       "6             0        \n",
       "7          None        \n",
       "8          None        \n",
       "9          None        \n",
       "10                     \n",
       "11                     \n",
       "12         None        \n",
       "13         None        \n",
       "14                     "
      ]
     },
     "execution_count": 4,
     "metadata": {},
     "output_type": "execute_result"
    }
   ],
   "source": [
    "query = \"\"\"SHOW COLUMNS FROM country\"\"\"\n",
    "\n",
    "df = pd.read_sql(query, conn)\n",
    "df"
   ]
  },
  {
   "cell_type": "markdown",
   "id": "ac0a0af8",
   "metadata": {},
   "source": [
    "How many countries there are?"
   ]
  },
  {
   "cell_type": "code",
   "execution_count": 5,
   "id": "68b73cd7",
   "metadata": {},
   "outputs": [
    {
     "data": {
      "application/vnd.microsoft.datawrangler.viewer.v0+json": {
       "columns": [
        {
         "name": "index",
         "rawType": "int64",
         "type": "integer"
        },
        {
         "name": "total_countries",
         "rawType": "int64",
         "type": "integer"
        }
       ],
       "ref": "96bfd005-22a0-4b75-bc71-91f97e1179ea",
       "rows": [
        [
         "0",
         "239"
        ]
       ],
       "shape": {
        "columns": 1,
        "rows": 1
       }
      },
      "text/html": [
       "<div>\n",
       "<style scoped>\n",
       "    .dataframe tbody tr th:only-of-type {\n",
       "        vertical-align: middle;\n",
       "    }\n",
       "\n",
       "    .dataframe tbody tr th {\n",
       "        vertical-align: top;\n",
       "    }\n",
       "\n",
       "    .dataframe thead th {\n",
       "        text-align: right;\n",
       "    }\n",
       "</style>\n",
       "<table border=\"1\" class=\"dataframe\">\n",
       "  <thead>\n",
       "    <tr style=\"text-align: right;\">\n",
       "      <th></th>\n",
       "      <th>total_countries</th>\n",
       "    </tr>\n",
       "  </thead>\n",
       "  <tbody>\n",
       "    <tr>\n",
       "      <th>0</th>\n",
       "      <td>239</td>\n",
       "    </tr>\n",
       "  </tbody>\n",
       "</table>\n",
       "</div>"
      ],
      "text/plain": [
       "   total_countries\n",
       "0              239"
      ]
     },
     "execution_count": 5,
     "metadata": {},
     "output_type": "execute_result"
    }
   ],
   "source": [
    "query = \"\"\"SELECT COUNT(*) AS total_countries FROM country;\n",
    "\"\"\"\n",
    "df = pd.read_sql(query, conn)\n",
    "df"
   ]
  },
  {
   "cell_type": "markdown",
   "id": "c68c490a",
   "metadata": {},
   "source": [
    "How many countries there in continent?"
   ]
  },
  {
   "cell_type": "code",
   "execution_count": 16,
   "id": "ab021c36",
   "metadata": {},
   "outputs": [
    {
     "data": {
      "image/png": "[encoded data removed]",
      "text/plain": [
       "<Figure size 640x480 with 1 Axes>"
      ]
     },
     "metadata": {},
     "output_type": "display_data"
    }
   ],
   "source": [
    "query = \"\"\"SELECT Continent, COUNT(*) AS NumberOfCountries FROM country GROUP BY Continent ORDER BY NumberOfCountries DESC\"\"\"\n",
    "\n",
    "df = pd.read_sql(query, conn)\n",
    "\n",
    "ax=sns.barplot(\n",
    "    y=\"NumberOfCountries\", \n",
    "    x=\"Continent\", \n",
    "    data=df, \n",
    "    palette=\"viridis\",\n",
    "    estimator=sum, ci=None\n",
    ")\n",
    "for container in ax.containers:\n",
    "    ax.bar_label(container)\n",
    "plt.title(\"Number of countries in Contients\")\n",
    "plt.xlabel(\"Number of Countries\")\n",
    "plt.ylabel(\"Continent\")\n",
    "plt.xticks(rotation=90)\n",
    "plt.show()\n"
   ]
  },
  {
   "cell_type": "markdown",
   "id": "9814cece",
   "metadata": {},
   "source": [
    "Which 10 countries have the highest population?"
   ]
  },
  {
   "cell_type": "code",
   "execution_count": 23,
   "id": "5f84ba1a",
   "metadata": {},
   "outputs": [
    {
     "data": {
      "image/png": "[encoded data removed]",
      "text/plain": [
       "<Figure size 640x480 with 1 Axes>"
      ]
     },
     "metadata": {},
     "output_type": "display_data"
    }
   ],
   "source": [
    "query = \"\"\"SELECT *  FROM country ORDER BY Population DESC LIMIT 10;\"\"\"\n",
    "df = pd.read_sql(query, conn)\n",
    "\n",
    "ax = sns.barplot(\n",
    "    y=\"Name\",\n",
    "    x=\"Population\",\n",
    "    palette='viridis',\n",
    "    data=df,\n",
    ")\n",
    "\n",
    "for container in ax.containers:\n",
    "    ax.bar_label(container)\n",
    "plt.show()\n"
   ]
  },
  {
   "cell_type": "markdown",
   "id": "a1d603ab",
   "metadata": {},
   "source": [
    "Which 10 countries have the lowest population?"
   ]
  },
  {
   "cell_type": "code",
   "execution_count": 60,
   "id": "8c55e159",
   "metadata": {},
   "outputs": [
    {
     "data": {
      "image/png": "[encoded data removed]",
      "text/plain": [
       "<Figure size 640x480 with 1 Axes>"
      ]
     },
     "metadata": {},
     "output_type": "display_data"
    }
   ],
   "source": [
    "query = \"\"\"SELECT *  FROM country WHERE Population > 0 ORDER BY Population  ASC LIMIT 10 ;\"\"\"\n",
    "df = pd.read_sql(query, conn)\n",
    "\n",
    "ax = sns.barplot(\n",
    "    y=\"Name\",\n",
    "    x=\"Population\",\n",
    "    palette='viridis',\n",
    "    data=df,\n",
    ")\n",
    "\n",
    "for container in ax.containers:\n",
    "    ax.bar_label(container)\n",
    "plt.show()\n"
   ]
  },
  {
   "cell_type": "markdown",
   "id": "39ee497f",
   "metadata": {},
   "source": [
    "What is the total population of each continent?"
   ]
  },
  {
   "cell_type": "code",
   "execution_count": null,
   "id": "3d86c033",
   "metadata": {},
   "outputs": [
    {
     "data": {
      "application/vnd.microsoft.datawrangler.viewer.v0+json": {
       "columns": [
        {
         "name": "index",
         "rawType": "int64",
         "type": "integer"
        },
        {
         "name": "Continent",
         "rawType": "object",
         "type": "string"
        },
        {
         "name": "TotalPopulation",
         "rawType": "float64",
         "type": "float"
        }
       ],
       "ref": "b85fd7d1-e4a0-4a00-8433-c5486234a3b5",
       "rows": [
        [
         "0",
         "Asia",
         "3705025700.0"
        ],
        [
         "1",
         "Africa",
         "784475000.0"
        ],
        [
         "2",
         "Europe",
         "730074600.0"
        ],
        [
         "3",
         "North America",
         "482993000.0"
        ],
        [
         "4",
         "South America",
         "345780000.0"
        ],
        [
         "5",
         "Oceania",
         "30401150.0"
        ],
        [
         "6",
         "Antarctica",
         "0.0"
        ]
       ],
       "shape": {
        "columns": 2,
        "rows": 7
       }
      },
      "text/html": [
       "<div>\n",
       "<style scoped>\n",
       "    .dataframe tbody tr th:only-of-type {\n",
       "        vertical-align: middle;\n",
       "    }\n",
       "\n",
       "    .dataframe tbody tr th {\n",
       "        vertical-align: top;\n",
       "    }\n",
       "\n",
       "    .dataframe thead th {\n",
       "        text-align: right;\n",
       "    }\n",
       "</style>\n",
       "<table border=\"1\" class=\"dataframe\">\n",
       "  <thead>\n",
       "    <tr style=\"text-align: right;\">\n",
       "      <th></th>\n",
       "      <th>Continent</th>\n",
       "      <th>TotalPopulation</th>\n",
       "    </tr>\n",
       "  </thead>\n",
       "  <tbody>\n",
       "    <tr>\n",
       "      <th>0</th>\n",
       "      <td>Asia</td>\n",
       "      <td>3.705026e+09</td>\n",
       "    </tr>\n",
       "    <tr>\n",
       "      <th>1</th>\n",
       "      <td>Africa</td>\n",
       "      <td>7.844750e+08</td>\n",
       "    </tr>\n",
       "    <tr>\n",
       "      <th>2</th>\n",
       "      <td>Europe</td>\n",
       "      <td>7.300746e+08</td>\n",
       "    </tr>\n",
       "    <tr>\n",
       "      <th>3</th>\n",
       "      <td>North America</td>\n",
       "      <td>4.829930e+08</td>\n",
       "    </tr>\n",
       "    <tr>\n",
       "      <th>4</th>\n",
       "      <td>South America</td>\n",
       "      <td>3.457800e+08</td>\n",
       "    </tr>\n",
       "    <tr>\n",
       "      <th>5</th>\n",
       "      <td>Oceania</td>\n",
       "      <td>3.040115e+07</td>\n",
       "    </tr>\n",
       "    <tr>\n",
       "      <th>6</th>\n",
       "      <td>Antarctica</td>\n",
       "      <td>0.000000e+00</td>\n",
       "    </tr>\n",
       "  </tbody>\n",
       "</table>\n",
       "</div>"
      ],
      "text/plain": [
       "       Continent  TotalPopulation\n",
       "0           Asia     3.705026e+09\n",
       "1         Africa     7.844750e+08\n",
       "2         Europe     7.300746e+08\n",
       "3  North America     4.829930e+08\n",
       "4  South America     3.457800e+08\n",
       "5        Oceania     3.040115e+07\n",
       "6     Antarctica     0.000000e+00"
      ]
     },
     "execution_count": 26,
     "metadata": {},
     "output_type": "execute_result"
    }
   ],
   "source": [
    "query = \"\"\"SELECT Continent, SUM(Population) AS TotalPopulation FROM country GROUP BY Continent ORDER BY TotalPopulation DESC;\"\"\"\n",
    "df = pd.read_sql(query, conn)\n",
    "df"
   ]
  },
  {
   "cell_type": "markdown",
   "id": "823589b6",
   "metadata": {},
   "source": [
    "What is the average life expectancy per continent?"
   ]
  },
  {
   "cell_type": "code",
   "execution_count": 32,
   "id": "1411dab0",
   "metadata": {},
   "outputs": [
    {
     "data": {
      "application/vnd.microsoft.datawrangler.viewer.v0+json": {
       "columns": [
        {
         "name": "index",
         "rawType": "int64",
         "type": "integer"
        },
        {
         "name": "Continent",
         "rawType": "object",
         "type": "string"
        },
        {
         "name": "AVG(LifeExpectancy)",
         "rawType": "float64",
         "type": "float"
        }
       ],
       "ref": "1311e218-85c8-4912-96fa-8fce54b9f391",
       "rows": [
        [
         "0",
         "North America",
         "72.99189"
        ],
        [
         "1",
         "Asia",
         "67.44118"
        ],
        [
         "2",
         "Africa",
         "52.57193"
        ],
        [
         "3",
         "Europe",
         "75.14773"
        ],
        [
         "4",
         "South America",
         "70.94615"
        ],
        [
         "5",
         "Oceania",
         "69.715"
        ],
        [
         "6",
         "Antarctica",
         null
        ]
       ],
       "shape": {
        "columns": 2,
        "rows": 7
       }
      },
      "text/html": [
       "<div>\n",
       "<style scoped>\n",
       "    .dataframe tbody tr th:only-of-type {\n",
       "        vertical-align: middle;\n",
       "    }\n",
       "\n",
       "    .dataframe tbody tr th {\n",
       "        vertical-align: top;\n",
       "    }\n",
       "\n",
       "    .dataframe thead th {\n",
       "        text-align: right;\n",
       "    }\n",
       "</style>\n",
       "<table border=\"1\" class=\"dataframe\">\n",
       "  <thead>\n",
       "    <tr style=\"text-align: right;\">\n",
       "      <th></th>\n",
       "      <th>Continent</th>\n",
       "      <th>AVG(LifeExpectancy)</th>\n",
       "    </tr>\n",
       "  </thead>\n",
       "  <tbody>\n",
       "    <tr>\n",
       "      <th>0</th>\n",
       "      <td>North America</td>\n",
       "      <td>72.99189</td>\n",
       "    </tr>\n",
       "    <tr>\n",
       "      <th>1</th>\n",
       "      <td>Asia</td>\n",
       "      <td>67.44118</td>\n",
       "    </tr>\n",
       "    <tr>\n",
       "      <th>2</th>\n",
       "      <td>Africa</td>\n",
       "      <td>52.57193</td>\n",
       "    </tr>\n",
       "    <tr>\n",
       "      <th>3</th>\n",
       "      <td>Europe</td>\n",
       "      <td>75.14773</td>\n",
       "    </tr>\n",
       "    <tr>\n",
       "      <th>4</th>\n",
       "      <td>South America</td>\n",
       "      <td>70.94615</td>\n",
       "    </tr>\n",
       "    <tr>\n",
       "      <th>5</th>\n",
       "      <td>Oceania</td>\n",
       "      <td>69.71500</td>\n",
       "    </tr>\n",
       "    <tr>\n",
       "      <th>6</th>\n",
       "      <td>Antarctica</td>\n",
       "      <td>NaN</td>\n",
       "    </tr>\n",
       "  </tbody>\n",
       "</table>\n",
       "</div>"
      ],
      "text/plain": [
       "       Continent  AVG(LifeExpectancy)\n",
       "0  North America             72.99189\n",
       "1           Asia             67.44118\n",
       "2         Africa             52.57193\n",
       "3         Europe             75.14773\n",
       "4  South America             70.94615\n",
       "5        Oceania             69.71500\n",
       "6     Antarctica                  NaN"
      ]
     },
     "execution_count": 32,
     "metadata": {},
     "output_type": "execute_result"
    }
   ],
   "source": [
    "query = \"\"\"SELECT Continent, AVG(LifeExpectancy) FROM country GROUP BY Continent\"\"\"\n",
    "df = pd.read_sql(query, conn)\n",
    "df"
   ]
  },
  {
   "cell_type": "markdown",
   "id": "7fa2b020",
   "metadata": {},
   "source": [
    "Which 10 countries have the highest GNP?"
   ]
  },
  {
   "cell_type": "code",
   "execution_count": 38,
   "id": "b499d674",
   "metadata": {},
   "outputs": [
    {
     "data": {
      "application/vnd.microsoft.datawrangler.viewer.v0+json": {
       "columns": [
        {
         "name": "index",
         "rawType": "int64",
         "type": "integer"
        },
        {
         "name": "Name",
         "rawType": "object",
         "type": "string"
        },
        {
         "name": "GNP",
         "rawType": "float64",
         "type": "float"
        }
       ],
       "ref": "9ab95d4b-90e5-47ea-b44e-da60c4d735f9",
       "rows": [
        [
         "0",
         "United States",
         "8510700.0"
        ],
        [
         "1",
         "Japan",
         "3787042.0"
        ],
        [
         "2",
         "Germany",
         "2133367.0"
        ],
        [
         "3",
         "France",
         "1424285.0"
        ],
        [
         "4",
         "United Kingdom",
         "1378330.0"
        ],
        [
         "5",
         "Italy",
         "1161755.0"
        ],
        [
         "6",
         "China",
         "982268.0"
        ],
        [
         "7",
         "Brazil",
         "776739.0"
        ],
        [
         "8",
         "Canada",
         "598862.0"
        ],
        [
         "9",
         "Spain",
         "553233.0"
        ]
       ],
       "shape": {
        "columns": 2,
        "rows": 10
       }
      },
      "text/html": [
       "<div>\n",
       "<style scoped>\n",
       "    .dataframe tbody tr th:only-of-type {\n",
       "        vertical-align: middle;\n",
       "    }\n",
       "\n",
       "    .dataframe tbody tr th {\n",
       "        vertical-align: top;\n",
       "    }\n",
       "\n",
       "    .dataframe thead th {\n",
       "        text-align: right;\n",
       "    }\n",
       "</style>\n",
       "<table border=\"1\" class=\"dataframe\">\n",
       "  <thead>\n",
       "    <tr style=\"text-align: right;\">\n",
       "      <th></th>\n",
       "      <th>Name</th>\n",
       "      <th>GNP</th>\n",
       "    </tr>\n",
       "  </thead>\n",
       "  <tbody>\n",
       "    <tr>\n",
       "      <th>0</th>\n",
       "      <td>United States</td>\n",
       "      <td>8510700.0</td>\n",
       "    </tr>\n",
       "    <tr>\n",
       "      <th>1</th>\n",
       "      <td>Japan</td>\n",
       "      <td>3787042.0</td>\n",
       "    </tr>\n",
       "    <tr>\n",
       "      <th>2</th>\n",
       "      <td>Germany</td>\n",
       "      <td>2133367.0</td>\n",
       "    </tr>\n",
       "    <tr>\n",
       "      <th>3</th>\n",
       "      <td>France</td>\n",
       "      <td>1424285.0</td>\n",
       "    </tr>\n",
       "    <tr>\n",
       "      <th>4</th>\n",
       "      <td>United Kingdom</td>\n",
       "      <td>1378330.0</td>\n",
       "    </tr>\n",
       "    <tr>\n",
       "      <th>5</th>\n",
       "      <td>Italy</td>\n",
       "      <td>1161755.0</td>\n",
       "    </tr>\n",
       "    <tr>\n",
       "      <th>6</th>\n",
       "      <td>China</td>\n",
       "      <td>982268.0</td>\n",
       "    </tr>\n",
       "    <tr>\n",
       "      <th>7</th>\n",
       "      <td>Brazil</td>\n",
       "      <td>776739.0</td>\n",
       "    </tr>\n",
       "    <tr>\n",
       "      <th>8</th>\n",
       "      <td>Canada</td>\n",
       "      <td>598862.0</td>\n",
       "    </tr>\n",
       "    <tr>\n",
       "      <th>9</th>\n",
       "      <td>Spain</td>\n",
       "      <td>553233.0</td>\n",
       "    </tr>\n",
       "  </tbody>\n",
       "</table>\n",
       "</div>"
      ],
      "text/plain": [
       "             Name        GNP\n",
       "0   United States  8510700.0\n",
       "1           Japan  3787042.0\n",
       "2         Germany  2133367.0\n",
       "3          France  1424285.0\n",
       "4  United Kingdom  1378330.0\n",
       "5           Italy  1161755.0\n",
       "6           China   982268.0\n",
       "7          Brazil   776739.0\n",
       "8          Canada   598862.0\n",
       "9           Spain   553233.0"
      ]
     },
     "execution_count": 38,
     "metadata": {},
     "output_type": "execute_result"
    }
   ],
   "source": [
    "query = \"\"\"SELECT Name,GNP FROM COUNTRY ORDER BY GNP DESC LIMIT 10\"\"\"\n",
    "df = pd.read_sql(query, conn)\n",
    "df"
   ]
  },
  {
   "cell_type": "markdown",
   "id": "bffc7db7",
   "metadata": {},
   "source": [
    "Which 10 countries have the highest GNP per capita?"
   ]
  },
  {
   "cell_type": "code",
   "execution_count": 41,
   "id": "bec7898e",
   "metadata": {},
   "outputs": [
    {
     "data": {
      "application/vnd.microsoft.datawrangler.viewer.v0+json": {
       "columns": [
        {
         "name": "index",
         "rawType": "int64",
         "type": "integer"
        },
        {
         "name": "Name",
         "rawType": "object",
         "type": "string"
        },
        {
         "name": "GNP",
         "rawType": "float64",
         "type": "float"
        },
        {
         "name": "Population",
         "rawType": "int64",
         "type": "integer"
        },
        {
         "name": "GNPPerCapita",
         "rawType": "float64",
         "type": "float"
        }
       ],
       "ref": "34bcffe5-cba6-4aba-a936-88605f1ee7d4",
       "rows": [
        [
         "0",
         "Luxembourg",
         "16321.0",
         "435700",
         "0.037459"
        ],
        [
         "1",
         "Switzerland",
         "264478.0",
         "7160400",
         "0.036936"
        ],
        [
         "2",
         "Bermuda",
         "2328.0",
         "65000",
         "0.035815"
        ],
        [
         "3",
         "Brunei",
         "11705.0",
         "328000",
         "0.035686"
        ],
        [
         "4",
         "Liechtenstein",
         "1119.0",
         "32300",
         "0.034644"
        ],
        [
         "5",
         "Cayman Islands",
         "1263.0",
         "38000",
         "0.033237"
        ],
        [
         "6",
         "Denmark",
         "174099.0",
         "5330000",
         "0.032664"
        ],
        [
         "7",
         "Norway",
         "145895.0",
         "4478500",
         "0.032577"
        ],
        [
         "8",
         "United States",
         "8510700.0",
         "278357000",
         "0.030575"
        ],
        [
         "9",
         "Japan",
         "3787042.0",
         "126714000",
         "0.029887"
        ]
       ],
       "shape": {
        "columns": 4,
        "rows": 10
       }
      },
      "text/html": [
       "<div>\n",
       "<style scoped>\n",
       "    .dataframe tbody tr th:only-of-type {\n",
       "        vertical-align: middle;\n",
       "    }\n",
       "\n",
       "    .dataframe tbody tr th {\n",
       "        vertical-align: top;\n",
       "    }\n",
       "\n",
       "    .dataframe thead th {\n",
       "        text-align: right;\n",
       "    }\n",
       "</style>\n",
       "<table border=\"1\" class=\"dataframe\">\n",
       "  <thead>\n",
       "    <tr style=\"text-align: right;\">\n",
       "      <th></th>\n",
       "      <th>Name</th>\n",
       "      <th>GNP</th>\n",
       "      <th>Population</th>\n",
       "      <th>GNPPerCapita</th>\n",
       "    </tr>\n",
       "  </thead>\n",
       "  <tbody>\n",
       "    <tr>\n",
       "      <th>0</th>\n",
       "      <td>Luxembourg</td>\n",
       "      <td>16321.0</td>\n",
       "      <td>435700</td>\n",
       "      <td>0.037459</td>\n",
       "    </tr>\n",
       "    <tr>\n",
       "      <th>1</th>\n",
       "      <td>Switzerland</td>\n",
       "      <td>264478.0</td>\n",
       "      <td>7160400</td>\n",
       "      <td>0.036936</td>\n",
       "    </tr>\n",
       "    <tr>\n",
       "      <th>2</th>\n",
       "      <td>Bermuda</td>\n",
       "      <td>2328.0</td>\n",
       "      <td>65000</td>\n",
       "      <td>0.035815</td>\n",
       "    </tr>\n",
       "    <tr>\n",
       "      <th>3</th>\n",
       "      <td>Brunei</td>\n",
       "      <td>11705.0</td>\n",
       "      <td>328000</td>\n",
       "      <td>0.035686</td>\n",
       "    </tr>\n",
       "    <tr>\n",
       "      <th>4</th>\n",
       "      <td>Liechtenstein</td>\n",
       "      <td>1119.0</td>\n",
       "      <td>32300</td>\n",
       "      <td>0.034644</td>\n",
       "    </tr>\n",
       "    <tr>\n",
       "      <th>5</th>\n",
       "      <td>Cayman Islands</td>\n",
       "      <td>1263.0</td>\n",
       "      <td>38000</td>\n",
       "      <td>0.033237</td>\n",
       "    </tr>\n",
       "    <tr>\n",
       "      <th>6</th>\n",
       "      <td>Denmark</td>\n",
       "      <td>174099.0</td>\n",
       "      <td>5330000</td>\n",
       "      <td>0.032664</td>\n",
       "    </tr>\n",
       "    <tr>\n",
       "      <th>7</th>\n",
       "      <td>Norway</td>\n",
       "      <td>145895.0</td>\n",
       "      <td>4478500</td>\n",
       "      <td>0.032577</td>\n",
       "    </tr>\n",
       "    <tr>\n",
       "      <th>8</th>\n",
       "      <td>United States</td>\n",
       "      <td>8510700.0</td>\n",
       "      <td>278357000</td>\n",
       "      <td>0.030575</td>\n",
       "    </tr>\n",
       "    <tr>\n",
       "      <th>9</th>\n",
       "      <td>Japan</td>\n",
       "      <td>3787042.0</td>\n",
       "      <td>126714000</td>\n",
       "      <td>0.029887</td>\n",
       "    </tr>\n",
       "  </tbody>\n",
       "</table>\n",
       "</div>"
      ],
      "text/plain": [
       "             Name        GNP  Population  GNPPerCapita\n",
       "0      Luxembourg    16321.0      435700      0.037459\n",
       "1     Switzerland   264478.0     7160400      0.036936\n",
       "2         Bermuda     2328.0       65000      0.035815\n",
       "3          Brunei    11705.0      328000      0.035686\n",
       "4   Liechtenstein     1119.0       32300      0.034644\n",
       "5  Cayman Islands     1263.0       38000      0.033237\n",
       "6         Denmark   174099.0     5330000      0.032664\n",
       "7          Norway   145895.0     4478500      0.032577\n",
       "8   United States  8510700.0   278357000      0.030575\n",
       "9           Japan  3787042.0   126714000      0.029887"
      ]
     },
     "execution_count": 41,
     "metadata": {},
     "output_type": "execute_result"
    }
   ],
   "source": [
    "query = \"\"\"SELECT Name, GNP,Population, (GNP/Population) AS GNPPerCapita FROM country WHERE Population > 0 ORDER BY GNPPerCapita DESC LIMIT 10; \"\"\"\n",
    "df = pd.read_sql(query, conn)\n",
    "df"
   ]
  },
  {
   "cell_type": "markdown",
   "id": "ba2283b0",
   "metadata": {},
   "source": [
    "Find the average surface area of countries by continent."
   ]
  },
  {
   "cell_type": "code",
   "execution_count": 45,
   "id": "9fbbfbf6",
   "metadata": {},
   "outputs": [
    {
     "data": {
      "application/vnd.microsoft.datawrangler.viewer.v0+json": {
       "columns": [
        {
         "name": "index",
         "rawType": "int64",
         "type": "integer"
        },
        {
         "name": "Continent",
         "rawType": "object",
         "type": "string"
        },
        {
         "name": "AvgSurfaceArea",
         "rawType": "float64",
         "type": "float"
        }
       ],
       "ref": "ec1f98ba-a248-46d2-8c6f-ec0da224735c",
       "rows": [
        [
         "0",
         "Antarctica",
         "2626420.2"
        ],
        [
         "1",
         "South America",
         "1276066.142857"
        ],
        [
         "2",
         "North America",
         "654445.135135"
        ],
        [
         "3",
         "Asia",
         "625117.745098"
        ],
        [
         "4",
         "Africa",
         "521558.224138"
        ],
        [
         "5",
         "Europe",
         "501068.128261"
        ],
        [
         "6",
         "Oceania",
         "305867.642857"
        ]
       ],
       "shape": {
        "columns": 2,
        "rows": 7
       }
      },
      "text/html": [
       "<div>\n",
       "<style scoped>\n",
       "    .dataframe tbody tr th:only-of-type {\n",
       "        vertical-align: middle;\n",
       "    }\n",
       "\n",
       "    .dataframe tbody tr th {\n",
       "        vertical-align: top;\n",
       "    }\n",
       "\n",
       "    .dataframe thead th {\n",
       "        text-align: right;\n",
       "    }\n",
       "</style>\n",
       "<table border=\"1\" class=\"dataframe\">\n",
       "  <thead>\n",
       "    <tr style=\"text-align: right;\">\n",
       "      <th></th>\n",
       "      <th>Continent</th>\n",
       "      <th>AvgSurfaceArea</th>\n",
       "    </tr>\n",
       "  </thead>\n",
       "  <tbody>\n",
       "    <tr>\n",
       "      <th>0</th>\n",
       "      <td>Antarctica</td>\n",
       "      <td>2.626420e+06</td>\n",
       "    </tr>\n",
       "    <tr>\n",
       "      <th>1</th>\n",
       "      <td>South America</td>\n",
       "      <td>1.276066e+06</td>\n",
       "    </tr>\n",
       "    <tr>\n",
       "      <th>2</th>\n",
       "      <td>North America</td>\n",
       "      <td>6.544451e+05</td>\n",
       "    </tr>\n",
       "    <tr>\n",
       "      <th>3</th>\n",
       "      <td>Asia</td>\n",
       "      <td>6.251177e+05</td>\n",
       "    </tr>\n",
       "    <tr>\n",
       "      <th>4</th>\n",
       "      <td>Africa</td>\n",
       "      <td>5.215582e+05</td>\n",
       "    </tr>\n",
       "    <tr>\n",
       "      <th>5</th>\n",
       "      <td>Europe</td>\n",
       "      <td>5.010681e+05</td>\n",
       "    </tr>\n",
       "    <tr>\n",
       "      <th>6</th>\n",
       "      <td>Oceania</td>\n",
       "      <td>3.058676e+05</td>\n",
       "    </tr>\n",
       "  </tbody>\n",
       "</table>\n",
       "</div>"
      ],
      "text/plain": [
       "       Continent  AvgSurfaceArea\n",
       "0     Antarctica    2.626420e+06\n",
       "1  South America    1.276066e+06\n",
       "2  North America    6.544451e+05\n",
       "3           Asia    6.251177e+05\n",
       "4         Africa    5.215582e+05\n",
       "5         Europe    5.010681e+05\n",
       "6        Oceania    3.058676e+05"
      ]
     },
     "execution_count": 45,
     "metadata": {},
     "output_type": "execute_result"
    }
   ],
   "source": [
    "query = \"\"\"SELECT Continent, AVG(SurfaceArea) AS AvgSurfaceArea\n",
    "FROM country\n",
    "GROUP BY Continent\n",
    "ORDER BY AvgSurfaceArea DESC;\n",
    "\"\"\"\n",
    "\n",
    "df = pd.read_sql(query, conn)\n",
    "df"
   ]
  },
  {
   "cell_type": "markdown",
   "id": "5ed71fc0",
   "metadata": {},
   "source": [
    "Which continents have more than 20 countries?"
   ]
  },
  {
   "cell_type": "code",
   "execution_count": 52,
   "id": "ac6084bf",
   "metadata": {},
   "outputs": [
    {
     "data": {
      "application/vnd.microsoft.datawrangler.viewer.v0+json": {
       "columns": [
        {
         "name": "index",
         "rawType": "int64",
         "type": "integer"
        },
        {
         "name": "Continent",
         "rawType": "object",
         "type": "string"
        },
        {
         "name": "CountriesPerContinent",
         "rawType": "int64",
         "type": "integer"
        }
       ],
       "ref": "133eca8e-c5b9-4263-9e31-b472dfb97e43",
       "rows": [
        [
         "0",
         "North America",
         "37"
        ],
        [
         "1",
         "Asia",
         "51"
        ],
        [
         "2",
         "Africa",
         "58"
        ],
        [
         "3",
         "Europe",
         "46"
        ],
        [
         "4",
         "Oceania",
         "28"
        ]
       ],
       "shape": {
        "columns": 2,
        "rows": 5
       }
      },
      "text/html": [
       "<div>\n",
       "<style scoped>\n",
       "    .dataframe tbody tr th:only-of-type {\n",
       "        vertical-align: middle;\n",
       "    }\n",
       "\n",
       "    .dataframe tbody tr th {\n",
       "        vertical-align: top;\n",
       "    }\n",
       "\n",
       "    .dataframe thead th {\n",
       "        text-align: right;\n",
       "    }\n",
       "</style>\n",
       "<table border=\"1\" class=\"dataframe\">\n",
       "  <thead>\n",
       "    <tr style=\"text-align: right;\">\n",
       "      <th></th>\n",
       "      <th>Continent</th>\n",
       "      <th>CountriesPerContinent</th>\n",
       "    </tr>\n",
       "  </thead>\n",
       "  <tbody>\n",
       "    <tr>\n",
       "      <th>0</th>\n",
       "      <td>North America</td>\n",
       "      <td>37</td>\n",
       "    </tr>\n",
       "    <tr>\n",
       "      <th>1</th>\n",
       "      <td>Asia</td>\n",
       "      <td>51</td>\n",
       "    </tr>\n",
       "    <tr>\n",
       "      <th>2</th>\n",
       "      <td>Africa</td>\n",
       "      <td>58</td>\n",
       "    </tr>\n",
       "    <tr>\n",
       "      <th>3</th>\n",
       "      <td>Europe</td>\n",
       "      <td>46</td>\n",
       "    </tr>\n",
       "    <tr>\n",
       "      <th>4</th>\n",
       "      <td>Oceania</td>\n",
       "      <td>28</td>\n",
       "    </tr>\n",
       "  </tbody>\n",
       "</table>\n",
       "</div>"
      ],
      "text/plain": [
       "       Continent  CountriesPerContinent\n",
       "0  North America                     37\n",
       "1           Asia                     51\n",
       "2         Africa                     58\n",
       "3         Europe                     46\n",
       "4        Oceania                     28"
      ]
     },
     "execution_count": 52,
     "metadata": {},
     "output_type": "execute_result"
    }
   ],
   "source": [
    "query = \"\"\"SELECT Continent, Count(Name) AS CountriesPerContinent FROM country GROUP BY Continent HAVING COUNT(Name) > 20\"\"\"\n",
    "df = pd.read_sql(query, conn)\n",
    "df"
   ]
  },
  {
   "cell_type": "code",
   "execution_count": 55,
   "id": "79f37cf5",
   "metadata": {},
   "outputs": [
    {
     "data": {
      "application/vnd.microsoft.datawrangler.viewer.v0+json": {
       "columns": [
        {
         "name": "index",
         "rawType": "int64",
         "type": "integer"
        },
        {
         "name": "Continent",
         "rawType": "object",
         "type": "string"
        },
        {
         "name": "AvgPopulationPerCountry",
         "rawType": "float64",
         "type": "float"
        }
       ],
       "ref": "69aa5744-edff-48bb-a23d-d66f1584ff2b",
       "rows": [
        [
         "0",
         "Asia",
         "72647562.7451"
        ],
        [
         "1",
         "South America",
         "24698571.4286"
        ],
        [
         "2",
         "Europe",
         "15871186.9565"
        ],
        [
         "3",
         "Africa",
         "13525431.0345"
        ],
        [
         "4",
         "North America",
         "13053864.8649"
        ],
        [
         "5",
         "Oceania",
         "1085755.3571"
        ],
        [
         "6",
         "Antarctica",
         "0.0"
        ]
       ],
       "shape": {
        "columns": 2,
        "rows": 7
       }
      },
      "text/html": [
       "<div>\n",
       "<style scoped>\n",
       "    .dataframe tbody tr th:only-of-type {\n",
       "        vertical-align: middle;\n",
       "    }\n",
       "\n",
       "    .dataframe tbody tr th {\n",
       "        vertical-align: top;\n",
       "    }\n",
       "\n",
       "    .dataframe thead th {\n",
       "        text-align: right;\n",
       "    }\n",
       "</style>\n",
       "<table border=\"1\" class=\"dataframe\">\n",
       "  <thead>\n",
       "    <tr style=\"text-align: right;\">\n",
       "      <th></th>\n",
       "      <th>Continent</th>\n",
       "      <th>AvgPopulationPerCountry</th>\n",
       "    </tr>\n",
       "  </thead>\n",
       "  <tbody>\n",
       "    <tr>\n",
       "      <th>0</th>\n",
       "      <td>Asia</td>\n",
       "      <td>7.264756e+07</td>\n",
       "    </tr>\n",
       "    <tr>\n",
       "      <th>1</th>\n",
       "      <td>South America</td>\n",
       "      <td>2.469857e+07</td>\n",
       "    </tr>\n",
       "    <tr>\n",
       "      <th>2</th>\n",
       "      <td>Europe</td>\n",
       "      <td>1.587119e+07</td>\n",
       "    </tr>\n",
       "    <tr>\n",
       "      <th>3</th>\n",
       "      <td>Africa</td>\n",
       "      <td>1.352543e+07</td>\n",
       "    </tr>\n",
       "    <tr>\n",
       "      <th>4</th>\n",
       "      <td>North America</td>\n",
       "      <td>1.305386e+07</td>\n",
       "    </tr>\n",
       "    <tr>\n",
       "      <th>5</th>\n",
       "      <td>Oceania</td>\n",
       "      <td>1.085755e+06</td>\n",
       "    </tr>\n",
       "    <tr>\n",
       "      <th>6</th>\n",
       "      <td>Antarctica</td>\n",
       "      <td>0.000000e+00</td>\n",
       "    </tr>\n",
       "  </tbody>\n",
       "</table>\n",
       "</div>"
      ],
      "text/plain": [
       "       Continent  AvgPopulationPerCountry\n",
       "0           Asia             7.264756e+07\n",
       "1  South America             2.469857e+07\n",
       "2         Europe             1.587119e+07\n",
       "3         Africa             1.352543e+07\n",
       "4  North America             1.305386e+07\n",
       "5        Oceania             1.085755e+06\n",
       "6     Antarctica             0.000000e+00"
      ]
     },
     "execution_count": 55,
     "metadata": {},
     "output_type": "execute_result"
    }
   ],
   "source": [
    "query = \"\"\"SELECT Continent, AVG(Population) AS AvgPopulationPerCountry\n",
    "FROM country\n",
    "GROUP BY Continent\n",
    "ORDER BY AvgPopulationPerCountry DESC;\"\"\"\n",
    "\n",
    "df = pd.read_sql(query, conn)\n",
    "df\n"
   ]
  }
 ],
 "metadata": {
  "kernelspec": {
   "display_name": "venv",
   "language": "python",
   "name": "python3"
  },
  "language_info": {
   "codemirror_mode": {
    "name": "ipython",
    "version": 3
   },
   "file_extension": ".py",
   "mimetype": "text/x-python",
   "name": "python",
   "nbconvert_exporter": "python",
   "pygments_lexer": "ipython3",
   "version": "3.13.1"
  }
 },
 "nbformat": 4,
 "nbformat_minor": 5
}
